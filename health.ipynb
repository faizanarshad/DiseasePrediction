{
 "cells": [
  {
   "cell_type": "code",
   "execution_count": 63,
   "metadata": {},
   "outputs": [],
   "source": [
    "# Data Manipulation\n",
    "import numpy as np\n",
    "import pandas as pd\n",
    "\n",
    "# Data Visualization\n",
    "import seaborn as sns\n",
    "import matplotlib.pyplot as plt\n",
    "import plotly.express as px\n",
    "import plotly.figure_factory as ff\n",
    "\n",
    "# Data Preprocessing\n",
    "from sklearn.preprocessing import LabelEncoder, StandardScaler, MultiLabelBinarizer, OneHotEncoder\n",
    "\n",
    "# Model Selection & Oversampling\n",
    "from sklearn.model_selection import train_test_split\n",
    "from imblearn.over_sampling import SMOTE\n",
    "\n",
    "# Models\n",
    "from sklearn.tree import DecisionTreeClassifier\n",
    "from sklearn.ensemble import RandomForestClassifier\n",
    "from sklearn.linear_model import LogisticRegression\n",
    "from sklearn.neighbors import KNeighborsClassifier\n",
    "from sklearn.multioutput import MultiOutputClassifier\n",
    "\n",
    "# Evaluation Metrics\n",
    "from sklearn.metrics import accuracy_score, classification_report, confusion_matrix,precision_recall_fscore_support,hamming_loss\n",
    "from sklearn.metrics.pairwise import cosine_similarity\n"
   ]
  },
  {
   "cell_type": "code",
   "execution_count": 64,
   "metadata": {},
   "outputs": [
    {
     "data": {
      "text/html": [
       "<div>\n",
       "<style scoped>\n",
       "    .dataframe tbody tr th:only-of-type {\n",
       "        vertical-align: middle;\n",
       "    }\n",
       "\n",
       "    .dataframe tbody tr th {\n",
       "        vertical-align: top;\n",
       "    }\n",
       "\n",
       "    .dataframe thead th {\n",
       "        text-align: right;\n",
       "    }\n",
       "</style>\n",
       "<table border=\"1\" class=\"dataframe\">\n",
       "  <thead>\n",
       "    <tr style=\"text-align: right;\">\n",
       "      <th></th>\n",
       "      <th>Ages</th>\n",
       "      <th>Gender</th>\n",
       "      <th>Height</th>\n",
       "      <th>Weight</th>\n",
       "      <th>Activity Level</th>\n",
       "      <th>Dietary Preference</th>\n",
       "      <th>Daily Calorie Target</th>\n",
       "      <th>Protein</th>\n",
       "      <th>Sugar</th>\n",
       "      <th>Sodium</th>\n",
       "      <th>Calories</th>\n",
       "      <th>Carbohydrates</th>\n",
       "      <th>Fiber</th>\n",
       "      <th>Fat</th>\n",
       "      <th>Breakfast Suggestion</th>\n",
       "      <th>Lunch Suggestion</th>\n",
       "      <th>Dinner Suggestion</th>\n",
       "      <th>Snack Suggestion</th>\n",
       "      <th>Disease</th>\n",
       "    </tr>\n",
       "  </thead>\n",
       "  <tbody>\n",
       "    <tr>\n",
       "      <th>0</th>\n",
       "      <td>25</td>\n",
       "      <td>Male</td>\n",
       "      <td>180</td>\n",
       "      <td>80</td>\n",
       "      <td>Moderately Active</td>\n",
       "      <td>Omnivore</td>\n",
       "      <td>2000</td>\n",
       "      <td>120</td>\n",
       "      <td>125.0</td>\n",
       "      <td>24.0</td>\n",
       "      <td>2020</td>\n",
       "      <td>250</td>\n",
       "      <td>30.0</td>\n",
       "      <td>60</td>\n",
       "      <td>Oatmeal with berries and nuts</td>\n",
       "      <td>Grilled chicken salad with mixed greens</td>\n",
       "      <td>Salmon with roasted vegetables</td>\n",
       "      <td>Greek yogurt with fruit</td>\n",
       "      <td>Weight Gain</td>\n",
       "    </tr>\n",
       "    <tr>\n",
       "      <th>1</th>\n",
       "      <td>32</td>\n",
       "      <td>Female</td>\n",
       "      <td>165</td>\n",
       "      <td>65</td>\n",
       "      <td>Lightly Active</td>\n",
       "      <td>Vegetarian</td>\n",
       "      <td>1600</td>\n",
       "      <td>80</td>\n",
       "      <td>100.0</td>\n",
       "      <td>16.0</td>\n",
       "      <td>1480</td>\n",
       "      <td>200</td>\n",
       "      <td>24.0</td>\n",
       "      <td>40</td>\n",
       "      <td>Tofu scramble with veggies</td>\n",
       "      <td>Lentil soup with whole wheat bread</td>\n",
       "      <td>Vegetable stir-fry with brown rice</td>\n",
       "      <td>Apple with almond butter</td>\n",
       "      <td>Weight Gain, Hypertension, Heart Disease</td>\n",
       "    </tr>\n",
       "    <tr>\n",
       "      <th>2</th>\n",
       "      <td>48</td>\n",
       "      <td>Male</td>\n",
       "      <td>175</td>\n",
       "      <td>95</td>\n",
       "      <td>Sedentary</td>\n",
       "      <td>Vegan</td>\n",
       "      <td>2200</td>\n",
       "      <td>100</td>\n",
       "      <td>150.0</td>\n",
       "      <td>20.0</td>\n",
       "      <td>2185</td>\n",
       "      <td>300</td>\n",
       "      <td>36.0</td>\n",
       "      <td>65</td>\n",
       "      <td>Tofu and veggie breakfast burrito</td>\n",
       "      <td>Black bean burger on a whole wheat bun</td>\n",
       "      <td>Lentil and vegetable curry</td>\n",
       "      <td>Trail mix</td>\n",
       "      <td>Weight Gain</td>\n",
       "    </tr>\n",
       "    <tr>\n",
       "      <th>3</th>\n",
       "      <td>55</td>\n",
       "      <td>Female</td>\n",
       "      <td>160</td>\n",
       "      <td>70</td>\n",
       "      <td>Very Active</td>\n",
       "      <td>Omnivore</td>\n",
       "      <td>2500</td>\n",
       "      <td>140</td>\n",
       "      <td>175.0</td>\n",
       "      <td>28.0</td>\n",
       "      <td>2680</td>\n",
       "      <td>350</td>\n",
       "      <td>42.0</td>\n",
       "      <td>80</td>\n",
       "      <td>Greek yogurt with granola and fruit</td>\n",
       "      <td>Chicken and vegetable stir-fry</td>\n",
       "      <td>Turkey chili with brown rice</td>\n",
       "      <td>Banana with peanut butter</td>\n",
       "      <td>Weight Gain</td>\n",
       "    </tr>\n",
       "    <tr>\n",
       "      <th>4</th>\n",
       "      <td>62</td>\n",
       "      <td>Male</td>\n",
       "      <td>170</td>\n",
       "      <td>85</td>\n",
       "      <td>Sedentary</td>\n",
       "      <td>Vegetarian</td>\n",
       "      <td>2000</td>\n",
       "      <td>80</td>\n",
       "      <td>125.0</td>\n",
       "      <td>16.0</td>\n",
       "      <td>1815</td>\n",
       "      <td>250</td>\n",
       "      <td>30.0</td>\n",
       "      <td>55</td>\n",
       "      <td>Scrambled eggs with whole wheat toast and avocado</td>\n",
       "      <td>Quinoa salad with chickpeas and vegetables</td>\n",
       "      <td>Vegetarian chili with cornbread</td>\n",
       "      <td>Fruit and nut mix</td>\n",
       "      <td>Weight Gain</td>\n",
       "    </tr>\n",
       "  </tbody>\n",
       "</table>\n",
       "</div>"
      ],
      "text/plain": [
       "   Ages  Gender  Height  Weight     Activity Level Dietary Preference  \\\n",
       "0    25    Male     180      80  Moderately Active           Omnivore   \n",
       "1    32  Female     165      65     Lightly Active         Vegetarian   \n",
       "2    48    Male     175      95          Sedentary              Vegan   \n",
       "3    55  Female     160      70        Very Active           Omnivore   \n",
       "4    62    Male     170      85          Sedentary         Vegetarian   \n",
       "\n",
       "   Daily Calorie Target  Protein  Sugar  Sodium  Calories  Carbohydrates  \\\n",
       "0                  2000      120  125.0    24.0      2020            250   \n",
       "1                  1600       80  100.0    16.0      1480            200   \n",
       "2                  2200      100  150.0    20.0      2185            300   \n",
       "3                  2500      140  175.0    28.0      2680            350   \n",
       "4                  2000       80  125.0    16.0      1815            250   \n",
       "\n",
       "   Fiber  Fat                               Breakfast Suggestion  \\\n",
       "0   30.0   60                      Oatmeal with berries and nuts   \n",
       "1   24.0   40                         Tofu scramble with veggies   \n",
       "2   36.0   65                  Tofu and veggie breakfast burrito   \n",
       "3   42.0   80                Greek yogurt with granola and fruit   \n",
       "4   30.0   55  Scrambled eggs with whole wheat toast and avocado   \n",
       "\n",
       "                             Lunch Suggestion  \\\n",
       "0     Grilled chicken salad with mixed greens   \n",
       "1          Lentil soup with whole wheat bread   \n",
       "2      Black bean burger on a whole wheat bun   \n",
       "3              Chicken and vegetable stir-fry   \n",
       "4  Quinoa salad with chickpeas and vegetables   \n",
       "\n",
       "                    Dinner Suggestion           Snack Suggestion  \\\n",
       "0      Salmon with roasted vegetables    Greek yogurt with fruit   \n",
       "1  Vegetable stir-fry with brown rice   Apple with almond butter   \n",
       "2          Lentil and vegetable curry                  Trail mix   \n",
       "3        Turkey chili with brown rice  Banana with peanut butter   \n",
       "4     Vegetarian chili with cornbread          Fruit and nut mix   \n",
       "\n",
       "                                    Disease  \n",
       "0                               Weight Gain  \n",
       "1  Weight Gain, Hypertension, Heart Disease  \n",
       "2                               Weight Gain  \n",
       "3                               Weight Gain  \n",
       "4                               Weight Gain  "
      ]
     },
     "execution_count": 64,
     "metadata": {},
     "output_type": "execute_result"
    }
   ],
   "source": [
    "df = pd.read_csv(\"Food_and_Nutrition.csv\", encoding=\"ISO-8859-1\")\n",
    "df.head()"
   ]
  },
  {
   "cell_type": "code",
   "execution_count": 65,
   "metadata": {},
   "outputs": [
    {
     "data": {
      "text/plain": [
       "<bound method DataFrame.info of       Ages  Gender  Height  Weight     Activity Level Dietary Preference  \\\n",
       "0       25    Male     180      80  Moderately Active           Omnivore   \n",
       "1       32  Female     165      65     Lightly Active         Vegetarian   \n",
       "2       48    Male     175      95          Sedentary              Vegan   \n",
       "3       55  Female     160      70        Very Active           Omnivore   \n",
       "4       62    Male     170      85          Sedentary         Vegetarian   \n",
       "...    ...     ...     ...     ...                ...                ...   \n",
       "1693    53  Female     182      76          Sedentary              Vegan   \n",
       "1694    38    Male     150      76        Very Active              Vegan   \n",
       "1695    57    Male     165      73        Very Active              Vegan   \n",
       "1696    40    Male     166      91   Extremely Active              Vegan   \n",
       "1697    54  Female     198      75          Sedentary         Vegetarian   \n",
       "\n",
       "      Daily Calorie Target  Protein  Sugar  Sodium  Calories  Carbohydrates  \\\n",
       "0                     2000      120  125.0    24.0      2020            250   \n",
       "1                     1600       80  100.0    16.0      1480            200   \n",
       "2                     2200      100  150.0    20.0      2185            300   \n",
       "3                     2500      140  175.0    28.0      2680            350   \n",
       "4                     2000       80  125.0    16.0      1815            250   \n",
       "...                    ...      ...    ...     ...       ...            ...   \n",
       "1693                  1265       94   63.0    18.8      1258            126   \n",
       "1694                  2109      158  105.0    31.6      2102            210   \n",
       "1695                  2555      191  127.5    38.2      2549            255   \n",
       "1696                  3329      249  166.0    49.8      3314            332   \n",
       "1697                  1867      140   93.0    28.0      1862            186   \n",
       "\n",
       "      Fiber  Fat                               Breakfast Suggestion  \\\n",
       "0     30.00   60                      Oatmeal with berries and nuts   \n",
       "1     24.00   40                         Tofu scramble with veggies   \n",
       "2     36.00   65                  Tofu and veggie breakfast burrito   \n",
       "3     42.00   80                Greek yogurt with granola and fruit   \n",
       "4     30.00   55  Scrambled eggs with whole wheat toast and avocado   \n",
       "...     ...  ...                                                ...   \n",
       "1693  15.12   42                      Oatmeal with berries and nuts   \n",
       "1694  25.20   70                      Oatmeal with berries and nuts   \n",
       "1695  30.60   85                       Smoothie with protein powder   \n",
       "1696  39.84  110              Scrambled eggs with whole wheat toast   \n",
       "1697  22.32   62              Scrambled eggs with whole wheat toast   \n",
       "\n",
       "                                Lunch Suggestion  \\\n",
       "0        Grilled chicken salad with mixed greens   \n",
       "1             Lentil soup with whole wheat bread   \n",
       "2         Black bean burger on a whole wheat bun   \n",
       "3                 Chicken and vegetable stir-fry   \n",
       "4     Quinoa salad with chickpeas and vegetables   \n",
       "...                                          ...   \n",
       "1693  Quinoa salad with chickpeas and vegetables   \n",
       "1694     Grilled chicken salad with mixed greens   \n",
       "1695              Chicken and vegetable stir-fry   \n",
       "1696          Lentil soup with whole wheat bread   \n",
       "1697              Chicken and vegetable stir-fry   \n",
       "\n",
       "                          Dinner Suggestion           Snack Suggestion  \\\n",
       "0            Salmon with roasted vegetables    Greek yogurt with fruit   \n",
       "1        Vegetable stir-fry with brown rice   Apple with almond butter   \n",
       "2                Lentil and vegetable curry                  Trail mix   \n",
       "3              Turkey chili with brown rice  Banana with peanut butter   \n",
       "4           Vegetarian chili with cornbread          Fruit and nut mix   \n",
       "...                                     ...                        ...   \n",
       "1693     Vegetable stir-fry with brown rice   Apple with almond butter   \n",
       "1694             Lentil and vegetable curry   Apple with almond butter   \n",
       "1695     Vegetable stir-fry with brown rice          Fruit and nut mix   \n",
       "1696     Vegetable stir-fry with brown rice  Banana with peanut butter   \n",
       "1697  Pasta with marinara sauce and veggies  Banana with peanut butter   \n",
       "\n",
       "                                                Disease  \n",
       "0                                           Weight Gain  \n",
       "1              Weight Gain, Hypertension, Heart Disease  \n",
       "2                                           Weight Gain  \n",
       "3                                           Weight Gain  \n",
       "4                                           Weight Gain  \n",
       "...                                                 ...  \n",
       "1693  Diabetes, Acne, Weight Gain, Hypertension, Hea...  \n",
       "1694                                        Weight Gain  \n",
       "1695                                        Weight Gain  \n",
       "1696                                        Weight Gain  \n",
       "1697                                        Weight Gain  \n",
       "\n",
       "[1698 rows x 19 columns]>"
      ]
     },
     "execution_count": 65,
     "metadata": {},
     "output_type": "execute_result"
    }
   ],
   "source": [
    "df.info"
   ]
  },
  {
   "cell_type": "code",
   "execution_count": 66,
   "metadata": {},
   "outputs": [
    {
     "data": {
      "text/plain": [
       "0"
      ]
     },
     "execution_count": 66,
     "metadata": {},
     "output_type": "execute_result"
    }
   ],
   "source": [
    "df.duplicated().sum()"
   ]
  },
  {
   "cell_type": "code",
   "execution_count": 67,
   "metadata": {},
   "outputs": [
    {
     "data": {
      "text/plain": [
       "Ages                    0\n",
       "Gender                  0\n",
       "Height                  0\n",
       "Weight                  0\n",
       "Activity Level          0\n",
       "Dietary Preference      0\n",
       "Daily Calorie Target    0\n",
       "Protein                 0\n",
       "Sugar                   0\n",
       "Sodium                  0\n",
       "Calories                0\n",
       "Carbohydrates           0\n",
       "Fiber                   0\n",
       "Fat                     0\n",
       "Breakfast Suggestion    0\n",
       "Lunch Suggestion        0\n",
       "Dinner Suggestion       0\n",
       "Snack Suggestion        0\n",
       "Disease                 0\n",
       "dtype: int64"
      ]
     },
     "execution_count": 67,
     "metadata": {},
     "output_type": "execute_result"
    }
   ],
   "source": [
    "df.isnull().sum()"
   ]
  },
  {
   "cell_type": "code",
   "execution_count": 68,
   "metadata": {},
   "outputs": [
    {
     "data": {
      "text/plain": [
       "<bound method NDFrame.describe of       Ages  Gender  Height  Weight     Activity Level Dietary Preference  \\\n",
       "0       25    Male     180      80  Moderately Active           Omnivore   \n",
       "1       32  Female     165      65     Lightly Active         Vegetarian   \n",
       "2       48    Male     175      95          Sedentary              Vegan   \n",
       "3       55  Female     160      70        Very Active           Omnivore   \n",
       "4       62    Male     170      85          Sedentary         Vegetarian   \n",
       "...    ...     ...     ...     ...                ...                ...   \n",
       "1693    53  Female     182      76          Sedentary              Vegan   \n",
       "1694    38    Male     150      76        Very Active              Vegan   \n",
       "1695    57    Male     165      73        Very Active              Vegan   \n",
       "1696    40    Male     166      91   Extremely Active              Vegan   \n",
       "1697    54  Female     198      75          Sedentary         Vegetarian   \n",
       "\n",
       "      Daily Calorie Target  Protein  Sugar  Sodium  Calories  Carbohydrates  \\\n",
       "0                     2000      120  125.0    24.0      2020            250   \n",
       "1                     1600       80  100.0    16.0      1480            200   \n",
       "2                     2200      100  150.0    20.0      2185            300   \n",
       "3                     2500      140  175.0    28.0      2680            350   \n",
       "4                     2000       80  125.0    16.0      1815            250   \n",
       "...                    ...      ...    ...     ...       ...            ...   \n",
       "1693                  1265       94   63.0    18.8      1258            126   \n",
       "1694                  2109      158  105.0    31.6      2102            210   \n",
       "1695                  2555      191  127.5    38.2      2549            255   \n",
       "1696                  3329      249  166.0    49.8      3314            332   \n",
       "1697                  1867      140   93.0    28.0      1862            186   \n",
       "\n",
       "      Fiber  Fat                               Breakfast Suggestion  \\\n",
       "0     30.00   60                      Oatmeal with berries and nuts   \n",
       "1     24.00   40                         Tofu scramble with veggies   \n",
       "2     36.00   65                  Tofu and veggie breakfast burrito   \n",
       "3     42.00   80                Greek yogurt with granola and fruit   \n",
       "4     30.00   55  Scrambled eggs with whole wheat toast and avocado   \n",
       "...     ...  ...                                                ...   \n",
       "1693  15.12   42                      Oatmeal with berries and nuts   \n",
       "1694  25.20   70                      Oatmeal with berries and nuts   \n",
       "1695  30.60   85                       Smoothie with protein powder   \n",
       "1696  39.84  110              Scrambled eggs with whole wheat toast   \n",
       "1697  22.32   62              Scrambled eggs with whole wheat toast   \n",
       "\n",
       "                                Lunch Suggestion  \\\n",
       "0        Grilled chicken salad with mixed greens   \n",
       "1             Lentil soup with whole wheat bread   \n",
       "2         Black bean burger on a whole wheat bun   \n",
       "3                 Chicken and vegetable stir-fry   \n",
       "4     Quinoa salad with chickpeas and vegetables   \n",
       "...                                          ...   \n",
       "1693  Quinoa salad with chickpeas and vegetables   \n",
       "1694     Grilled chicken salad with mixed greens   \n",
       "1695              Chicken and vegetable stir-fry   \n",
       "1696          Lentil soup with whole wheat bread   \n",
       "1697              Chicken and vegetable stir-fry   \n",
       "\n",
       "                          Dinner Suggestion           Snack Suggestion  \\\n",
       "0            Salmon with roasted vegetables    Greek yogurt with fruit   \n",
       "1        Vegetable stir-fry with brown rice   Apple with almond butter   \n",
       "2                Lentil and vegetable curry                  Trail mix   \n",
       "3              Turkey chili with brown rice  Banana with peanut butter   \n",
       "4           Vegetarian chili with cornbread          Fruit and nut mix   \n",
       "...                                     ...                        ...   \n",
       "1693     Vegetable stir-fry with brown rice   Apple with almond butter   \n",
       "1694             Lentil and vegetable curry   Apple with almond butter   \n",
       "1695     Vegetable stir-fry with brown rice          Fruit and nut mix   \n",
       "1696     Vegetable stir-fry with brown rice  Banana with peanut butter   \n",
       "1697  Pasta with marinara sauce and veggies  Banana with peanut butter   \n",
       "\n",
       "                                                Disease  \n",
       "0                                           Weight Gain  \n",
       "1              Weight Gain, Hypertension, Heart Disease  \n",
       "2                                           Weight Gain  \n",
       "3                                           Weight Gain  \n",
       "4                                           Weight Gain  \n",
       "...                                                 ...  \n",
       "1693  Diabetes, Acne, Weight Gain, Hypertension, Hea...  \n",
       "1694                                        Weight Gain  \n",
       "1695                                        Weight Gain  \n",
       "1696                                        Weight Gain  \n",
       "1697                                        Weight Gain  \n",
       "\n",
       "[1698 rows x 19 columns]>"
      ]
     },
     "execution_count": 68,
     "metadata": {},
     "output_type": "execute_result"
    }
   ],
   "source": [
    "df.describe"
   ]
  },
  {
   "cell_type": "code",
   "execution_count": 69,
   "metadata": {},
   "outputs": [
    {
     "name": "stdout",
     "output_type": "stream",
     "text": [
      "Weight Gain                                                                 1312\n",
      "Weight Gain, Hypertension, Heart Disease                                     129\n",
      "Weight Gain, Kidney Disease                                                   91\n",
      "Weight Gain, Hypertension, Heart Disease, Kidney Disease                      82\n",
      "Diabetes, Acne, Weight Gain, Hypertension, Heart Disease                      45\n",
      "Diabetes, Acne, Hypertension, Heart Disease                                   14\n",
      "Hypertension, Heart Disease                                                    9\n",
      "Diabetes, Acne, Weight Gain, Hypertension, Heart Disease, Kidney Disease       5\n",
      "Hypertension, Heart Disease, Kidney Disease                                    4\n",
      "Kidney Disease                                                                 3\n",
      "Hypertension, Kidney Disease                                                   2\n",
      "Diabetes, Acne, Hypertension, Kidney Disease                                   1\n",
      "Diabetes, Acne, Weight Loss, Hypertension, Heart Disease, Kidney Disease       1\n",
      "Name: Disease, dtype: int64\n"
     ]
    }
   ],
   "source": [
    "# Looking at Target Column ('Disease')\n",
    "print(df['Disease'].value_counts())"
   ]
  },
  {
   "cell_type": "code",
   "execution_count": 70,
   "metadata": {},
   "outputs": [
    {
     "data": {
      "text/plain": [
       "Weight Gain       1664\n",
       "Hypertension       292\n",
       "Heart Disease      289\n",
       "Kidney Disease     189\n",
       "Diabetes            66\n",
       "Acne                66\n",
       "Weight Loss          1\n",
       "Name: Disease, dtype: int64"
      ]
     },
     "metadata": {},
     "output_type": "display_data"
    }
   ],
   "source": [
    "\n",
    "# Creating a copy of the original data to avoid modifying it\n",
    "data_exploded = df.copy()\n",
    "\n",
    "# Spliting the 'Disease' column into multiple labels\n",
    "data_exploded['Disease'] = data_exploded['Disease'].str.split(', ')\n",
    "\n",
    "# Explode the 'Disease' column into separate rows\n",
    "data_exploded = data_exploded.explode('Disease')\n",
    "\n",
    "# Counting the frequency of each disease\n",
    "disease_counts = data_exploded['Disease'].value_counts()\n",
    "display(disease_counts)\n",
    "\n",
    "common_diseases = disease_counts.index "
   ]
  },
  {
   "cell_type": "code",
   "execution_count": 71,
   "metadata": {},
   "outputs": [
    {
     "data": {
      "application/vnd.plotly.v1+json": {
       "config": {
        "plotlyServerURL": "https://plot.ly"
       },
       "data": [
        {
         "alignmentgroup": "True",
         "hovertemplate": "Disease=%{x}<br>Frequency=%{y}<extra></extra>",
         "legendgroup": "",
         "marker": {
          "color": "#636efa",
          "pattern": {
           "shape": ""
          }
         },
         "name": "",
         "offsetgroup": "",
         "orientation": "v",
         "showlegend": false,
         "textposition": "auto",
         "texttemplate": "%{y}",
         "type": "bar",
         "x": [
          "Weight Gain",
          "Hypertension",
          "Heart Disease",
          "Kidney Disease",
          "Diabetes",
          "Acne",
          "Weight Loss"
         ],
         "xaxis": "x",
         "y": [
          1664,
          292,
          289,
          189,
          66,
          66,
          1
         ],
         "yaxis": "y"
        }
       ],
       "layout": {
        "barmode": "relative",
        "legend": {
         "tracegroupgap": 0
        },
        "template": {
         "data": {
          "bar": [
           {
            "error_x": {
             "color": "#2a3f5f"
            },
            "error_y": {
             "color": "#2a3f5f"
            },
            "marker": {
             "line": {
              "color": "#E5ECF6",
              "width": 0.5
             },
             "pattern": {
              "fillmode": "overlay",
              "size": 10,
              "solidity": 0.2
             }
            },
            "type": "bar"
           }
          ],
          "barpolar": [
           {
            "marker": {
             "line": {
              "color": "#E5ECF6",
              "width": 0.5
             },
             "pattern": {
              "fillmode": "overlay",
              "size": 10,
              "solidity": 0.2
             }
            },
            "type": "barpolar"
           }
          ],
          "carpet": [
           {
            "aaxis": {
             "endlinecolor": "#2a3f5f",
             "gridcolor": "white",
             "linecolor": "white",
             "minorgridcolor": "white",
             "startlinecolor": "#2a3f5f"
            },
            "baxis": {
             "endlinecolor": "#2a3f5f",
             "gridcolor": "white",
             "linecolor": "white",
             "minorgridcolor": "white",
             "startlinecolor": "#2a3f5f"
            },
            "type": "carpet"
           }
          ],
          "choropleth": [
           {
            "colorbar": {
             "outlinewidth": 0,
             "ticks": ""
            },
            "type": "choropleth"
           }
          ],
          "contour": [
           {
            "colorbar": {
             "outlinewidth": 0,
             "ticks": ""
            },
            "colorscale": [
             [
              0,
              "#0d0887"
             ],
             [
              0.1111111111111111,
              "#46039f"
             ],
             [
              0.2222222222222222,
              "#7201a8"
             ],
             [
              0.3333333333333333,
              "#9c179e"
             ],
             [
              0.4444444444444444,
              "#bd3786"
             ],
             [
              0.5555555555555556,
              "#d8576b"
             ],
             [
              0.6666666666666666,
              "#ed7953"
             ],
             [
              0.7777777777777778,
              "#fb9f3a"
             ],
             [
              0.8888888888888888,
              "#fdca26"
             ],
             [
              1,
              "#f0f921"
             ]
            ],
            "type": "contour"
           }
          ],
          "contourcarpet": [
           {
            "colorbar": {
             "outlinewidth": 0,
             "ticks": ""
            },
            "type": "contourcarpet"
           }
          ],
          "heatmap": [
           {
            "colorbar": {
             "outlinewidth": 0,
             "ticks": ""
            },
            "colorscale": [
             [
              0,
              "#0d0887"
             ],
             [
              0.1111111111111111,
              "#46039f"
             ],
             [
              0.2222222222222222,
              "#7201a8"
             ],
             [
              0.3333333333333333,
              "#9c179e"
             ],
             [
              0.4444444444444444,
              "#bd3786"
             ],
             [
              0.5555555555555556,
              "#d8576b"
             ],
             [
              0.6666666666666666,
              "#ed7953"
             ],
             [
              0.7777777777777778,
              "#fb9f3a"
             ],
             [
              0.8888888888888888,
              "#fdca26"
             ],
             [
              1,
              "#f0f921"
             ]
            ],
            "type": "heatmap"
           }
          ],
          "heatmapgl": [
           {
            "colorbar": {
             "outlinewidth": 0,
             "ticks": ""
            },
            "colorscale": [
             [
              0,
              "#0d0887"
             ],
             [
              0.1111111111111111,
              "#46039f"
             ],
             [
              0.2222222222222222,
              "#7201a8"
             ],
             [
              0.3333333333333333,
              "#9c179e"
             ],
             [
              0.4444444444444444,
              "#bd3786"
             ],
             [
              0.5555555555555556,
              "#d8576b"
             ],
             [
              0.6666666666666666,
              "#ed7953"
             ],
             [
              0.7777777777777778,
              "#fb9f3a"
             ],
             [
              0.8888888888888888,
              "#fdca26"
             ],
             [
              1,
              "#f0f921"
             ]
            ],
            "type": "heatmapgl"
           }
          ],
          "histogram": [
           {
            "marker": {
             "pattern": {
              "fillmode": "overlay",
              "size": 10,
              "solidity": 0.2
             }
            },
            "type": "histogram"
           }
          ],
          "histogram2d": [
           {
            "colorbar": {
             "outlinewidth": 0,
             "ticks": ""
            },
            "colorscale": [
             [
              0,
              "#0d0887"
             ],
             [
              0.1111111111111111,
              "#46039f"
             ],
             [
              0.2222222222222222,
              "#7201a8"
             ],
             [
              0.3333333333333333,
              "#9c179e"
             ],
             [
              0.4444444444444444,
              "#bd3786"
             ],
             [
              0.5555555555555556,
              "#d8576b"
             ],
             [
              0.6666666666666666,
              "#ed7953"
             ],
             [
              0.7777777777777778,
              "#fb9f3a"
             ],
             [
              0.8888888888888888,
              "#fdca26"
             ],
             [
              1,
              "#f0f921"
             ]
            ],
            "type": "histogram2d"
           }
          ],
          "histogram2dcontour": [
           {
            "colorbar": {
             "outlinewidth": 0,
             "ticks": ""
            },
            "colorscale": [
             [
              0,
              "#0d0887"
             ],
             [
              0.1111111111111111,
              "#46039f"
             ],
             [
              0.2222222222222222,
              "#7201a8"
             ],
             [
              0.3333333333333333,
              "#9c179e"
             ],
             [
              0.4444444444444444,
              "#bd3786"
             ],
             [
              0.5555555555555556,
              "#d8576b"
             ],
             [
              0.6666666666666666,
              "#ed7953"
             ],
             [
              0.7777777777777778,
              "#fb9f3a"
             ],
             [
              0.8888888888888888,
              "#fdca26"
             ],
             [
              1,
              "#f0f921"
             ]
            ],
            "type": "histogram2dcontour"
           }
          ],
          "mesh3d": [
           {
            "colorbar": {
             "outlinewidth": 0,
             "ticks": ""
            },
            "type": "mesh3d"
           }
          ],
          "parcoords": [
           {
            "line": {
             "colorbar": {
              "outlinewidth": 0,
              "ticks": ""
             }
            },
            "type": "parcoords"
           }
          ],
          "pie": [
           {
            "automargin": true,
            "type": "pie"
           }
          ],
          "scatter": [
           {
            "fillpattern": {
             "fillmode": "overlay",
             "size": 10,
             "solidity": 0.2
            },
            "type": "scatter"
           }
          ],
          "scatter3d": [
           {
            "line": {
             "colorbar": {
              "outlinewidth": 0,
              "ticks": ""
             }
            },
            "marker": {
             "colorbar": {
              "outlinewidth": 0,
              "ticks": ""
             }
            },
            "type": "scatter3d"
           }
          ],
          "scattercarpet": [
           {
            "marker": {
             "colorbar": {
              "outlinewidth": 0,
              "ticks": ""
             }
            },
            "type": "scattercarpet"
           }
          ],
          "scattergeo": [
           {
            "marker": {
             "colorbar": {
              "outlinewidth": 0,
              "ticks": ""
             }
            },
            "type": "scattergeo"
           }
          ],
          "scattergl": [
           {
            "marker": {
             "colorbar": {
              "outlinewidth": 0,
              "ticks": ""
             }
            },
            "type": "scattergl"
           }
          ],
          "scattermapbox": [
           {
            "marker": {
             "colorbar": {
              "outlinewidth": 0,
              "ticks": ""
             }
            },
            "type": "scattermapbox"
           }
          ],
          "scatterpolar": [
           {
            "marker": {
             "colorbar": {
              "outlinewidth": 0,
              "ticks": ""
             }
            },
            "type": "scatterpolar"
           }
          ],
          "scatterpolargl": [
           {
            "marker": {
             "colorbar": {
              "outlinewidth": 0,
              "ticks": ""
             }
            },
            "type": "scatterpolargl"
           }
          ],
          "scatterternary": [
           {
            "marker": {
             "colorbar": {
              "outlinewidth": 0,
              "ticks": ""
             }
            },
            "type": "scatterternary"
           }
          ],
          "surface": [
           {
            "colorbar": {
             "outlinewidth": 0,
             "ticks": ""
            },
            "colorscale": [
             [
              0,
              "#0d0887"
             ],
             [
              0.1111111111111111,
              "#46039f"
             ],
             [
              0.2222222222222222,
              "#7201a8"
             ],
             [
              0.3333333333333333,
              "#9c179e"
             ],
             [
              0.4444444444444444,
              "#bd3786"
             ],
             [
              0.5555555555555556,
              "#d8576b"
             ],
             [
              0.6666666666666666,
              "#ed7953"
             ],
             [
              0.7777777777777778,
              "#fb9f3a"
             ],
             [
              0.8888888888888888,
              "#fdca26"
             ],
             [
              1,
              "#f0f921"
             ]
            ],
            "type": "surface"
           }
          ],
          "table": [
           {
            "cells": {
             "fill": {
              "color": "#EBF0F8"
             },
             "line": {
              "color": "white"
             }
            },
            "header": {
             "fill": {
              "color": "#C8D4E3"
             },
             "line": {
              "color": "white"
             }
            },
            "type": "table"
           }
          ]
         },
         "layout": {
          "annotationdefaults": {
           "arrowcolor": "#2a3f5f",
           "arrowhead": 0,
           "arrowwidth": 1
          },
          "autotypenumbers": "strict",
          "coloraxis": {
           "colorbar": {
            "outlinewidth": 0,
            "ticks": ""
           }
          },
          "colorscale": {
           "diverging": [
            [
             0,
             "#8e0152"
            ],
            [
             0.1,
             "#c51b7d"
            ],
            [
             0.2,
             "#de77ae"
            ],
            [
             0.3,
             "#f1b6da"
            ],
            [
             0.4,
             "#fde0ef"
            ],
            [
             0.5,
             "#f7f7f7"
            ],
            [
             0.6,
             "#e6f5d0"
            ],
            [
             0.7,
             "#b8e186"
            ],
            [
             0.8,
             "#7fbc41"
            ],
            [
             0.9,
             "#4d9221"
            ],
            [
             1,
             "#276419"
            ]
           ],
           "sequential": [
            [
             0,
             "#0d0887"
            ],
            [
             0.1111111111111111,
             "#46039f"
            ],
            [
             0.2222222222222222,
             "#7201a8"
            ],
            [
             0.3333333333333333,
             "#9c179e"
            ],
            [
             0.4444444444444444,
             "#bd3786"
            ],
            [
             0.5555555555555556,
             "#d8576b"
            ],
            [
             0.6666666666666666,
             "#ed7953"
            ],
            [
             0.7777777777777778,
             "#fb9f3a"
            ],
            [
             0.8888888888888888,
             "#fdca26"
            ],
            [
             1,
             "#f0f921"
            ]
           ],
           "sequentialminus": [
            [
             0,
             "#0d0887"
            ],
            [
             0.1111111111111111,
             "#46039f"
            ],
            [
             0.2222222222222222,
             "#7201a8"
            ],
            [
             0.3333333333333333,
             "#9c179e"
            ],
            [
             0.4444444444444444,
             "#bd3786"
            ],
            [
             0.5555555555555556,
             "#d8576b"
            ],
            [
             0.6666666666666666,
             "#ed7953"
            ],
            [
             0.7777777777777778,
             "#fb9f3a"
            ],
            [
             0.8888888888888888,
             "#fdca26"
            ],
            [
             1,
             "#f0f921"
            ]
           ]
          },
          "colorway": [
           "#636efa",
           "#EF553B",
           "#00cc96",
           "#ab63fa",
           "#FFA15A",
           "#19d3f3",
           "#FF6692",
           "#B6E880",
           "#FF97FF",
           "#FECB52"
          ],
          "font": {
           "color": "#2a3f5f"
          },
          "geo": {
           "bgcolor": "white",
           "lakecolor": "white",
           "landcolor": "#E5ECF6",
           "showlakes": true,
           "showland": true,
           "subunitcolor": "white"
          },
          "hoverlabel": {
           "align": "left"
          },
          "hovermode": "closest",
          "mapbox": {
           "style": "light"
          },
          "paper_bgcolor": "white",
          "plot_bgcolor": "#E5ECF6",
          "polar": {
           "angularaxis": {
            "gridcolor": "white",
            "linecolor": "white",
            "ticks": ""
           },
           "bgcolor": "#E5ECF6",
           "radialaxis": {
            "gridcolor": "white",
            "linecolor": "white",
            "ticks": ""
           }
          },
          "scene": {
           "xaxis": {
            "backgroundcolor": "#E5ECF6",
            "gridcolor": "white",
            "gridwidth": 2,
            "linecolor": "white",
            "showbackground": true,
            "ticks": "",
            "zerolinecolor": "white"
           },
           "yaxis": {
            "backgroundcolor": "#E5ECF6",
            "gridcolor": "white",
            "gridwidth": 2,
            "linecolor": "white",
            "showbackground": true,
            "ticks": "",
            "zerolinecolor": "white"
           },
           "zaxis": {
            "backgroundcolor": "#E5ECF6",
            "gridcolor": "white",
            "gridwidth": 2,
            "linecolor": "white",
            "showbackground": true,
            "ticks": "",
            "zerolinecolor": "white"
           }
          },
          "shapedefaults": {
           "line": {
            "color": "#2a3f5f"
           }
          },
          "ternary": {
           "aaxis": {
            "gridcolor": "white",
            "linecolor": "white",
            "ticks": ""
           },
           "baxis": {
            "gridcolor": "white",
            "linecolor": "white",
            "ticks": ""
           },
           "bgcolor": "#E5ECF6",
           "caxis": {
            "gridcolor": "white",
            "linecolor": "white",
            "ticks": ""
           }
          },
          "title": {
           "x": 0.05
          },
          "xaxis": {
           "automargin": true,
           "gridcolor": "white",
           "linecolor": "white",
           "ticks": "",
           "title": {
            "standoff": 15
           },
           "zerolinecolor": "white",
           "zerolinewidth": 2
          },
          "yaxis": {
           "automargin": true,
           "gridcolor": "white",
           "linecolor": "white",
           "ticks": "",
           "title": {
            "standoff": 15
           },
           "zerolinecolor": "white",
           "zerolinewidth": 2
          }
         }
        },
        "title": {
         "text": "Frequency of Diseases"
        },
        "xaxis": {
         "anchor": "y",
         "domain": [
          0,
          1
         ],
         "tickangle": 45,
         "title": {
          "text": "Disease"
         }
        },
        "yaxis": {
         "anchor": "x",
         "domain": [
          0,
          1
         ],
         "title": {
          "text": "Frequency"
         }
        }
       }
      }
     },
     "metadata": {},
     "output_type": "display_data"
    }
   ],
   "source": [
    "disease_counts = data_exploded['Disease'].value_counts()\n",
    "\n",
    "# Create a bar plot using Plotly\n",
    "fig = px.bar(\n",
    "    x=disease_counts.index,\n",
    "    y=disease_counts.values,\n",
    "    labels={'x': 'Disease', 'y': 'Frequency'},\n",
    "    title=\"Frequency of Diseases\",\n",
    "    text_auto=True\n",
    ")\n",
    "\n",
    "# Adjust layout for better readability\n",
    "fig.update_layout(\n",
    "    xaxis_title=\"Disease\",\n",
    "    yaxis_title=\"Frequency\",\n",
    "    xaxis_tickangle=45  # Rotate labels for readability\n",
    ")\n",
    "\n",
    "# Show the plot\n",
    "fig.show()\n"
   ]
  },
  {
   "cell_type": "code",
   "execution_count": 72,
   "metadata": {},
   "outputs": [
    {
     "data": {
      "text/html": [
       "<div>\n",
       "<style scoped>\n",
       "    .dataframe tbody tr th:only-of-type {\n",
       "        vertical-align: middle;\n",
       "    }\n",
       "\n",
       "    .dataframe tbody tr th {\n",
       "        vertical-align: top;\n",
       "    }\n",
       "\n",
       "    .dataframe thead th {\n",
       "        text-align: right;\n",
       "    }\n",
       "</style>\n",
       "<table border=\"1\" class=\"dataframe\">\n",
       "  <thead>\n",
       "    <tr style=\"text-align: right;\">\n",
       "      <th></th>\n",
       "      <th>Ages</th>\n",
       "      <th>Gender</th>\n",
       "      <th>Height</th>\n",
       "      <th>Weight</th>\n",
       "      <th>Activity Level</th>\n",
       "      <th>Dietary Preference</th>\n",
       "      <th>Daily Calorie Target</th>\n",
       "      <th>Protein</th>\n",
       "      <th>Sugar</th>\n",
       "      <th>Sodium</th>\n",
       "      <th>...</th>\n",
       "      <th>Dinner Suggestion</th>\n",
       "      <th>Snack Suggestion</th>\n",
       "      <th>Disease</th>\n",
       "      <th>Weight Gain</th>\n",
       "      <th>Hypertension</th>\n",
       "      <th>Heart Disease</th>\n",
       "      <th>Kidney Disease</th>\n",
       "      <th>Diabetes</th>\n",
       "      <th>Acne</th>\n",
       "      <th>Weight Loss</th>\n",
       "    </tr>\n",
       "  </thead>\n",
       "  <tbody>\n",
       "    <tr>\n",
       "      <th>0</th>\n",
       "      <td>25</td>\n",
       "      <td>Male</td>\n",
       "      <td>180</td>\n",
       "      <td>80</td>\n",
       "      <td>Moderately Active</td>\n",
       "      <td>Omnivore</td>\n",
       "      <td>2000</td>\n",
       "      <td>120</td>\n",
       "      <td>125.0</td>\n",
       "      <td>24.0</td>\n",
       "      <td>...</td>\n",
       "      <td>Salmon with roasted vegetables</td>\n",
       "      <td>Greek yogurt with fruit</td>\n",
       "      <td>Weight Gain</td>\n",
       "      <td>1</td>\n",
       "      <td>0</td>\n",
       "      <td>0</td>\n",
       "      <td>0</td>\n",
       "      <td>0</td>\n",
       "      <td>0</td>\n",
       "      <td>0</td>\n",
       "    </tr>\n",
       "    <tr>\n",
       "      <th>1</th>\n",
       "      <td>32</td>\n",
       "      <td>Female</td>\n",
       "      <td>165</td>\n",
       "      <td>65</td>\n",
       "      <td>Lightly Active</td>\n",
       "      <td>Vegetarian</td>\n",
       "      <td>1600</td>\n",
       "      <td>80</td>\n",
       "      <td>100.0</td>\n",
       "      <td>16.0</td>\n",
       "      <td>...</td>\n",
       "      <td>Vegetable stir-fry with brown rice</td>\n",
       "      <td>Apple with almond butter</td>\n",
       "      <td>Weight Gain</td>\n",
       "      <td>1</td>\n",
       "      <td>0</td>\n",
       "      <td>0</td>\n",
       "      <td>0</td>\n",
       "      <td>0</td>\n",
       "      <td>0</td>\n",
       "      <td>0</td>\n",
       "    </tr>\n",
       "    <tr>\n",
       "      <th>1</th>\n",
       "      <td>32</td>\n",
       "      <td>Female</td>\n",
       "      <td>165</td>\n",
       "      <td>65</td>\n",
       "      <td>Lightly Active</td>\n",
       "      <td>Vegetarian</td>\n",
       "      <td>1600</td>\n",
       "      <td>80</td>\n",
       "      <td>100.0</td>\n",
       "      <td>16.0</td>\n",
       "      <td>...</td>\n",
       "      <td>Vegetable stir-fry with brown rice</td>\n",
       "      <td>Apple with almond butter</td>\n",
       "      <td>Hypertension</td>\n",
       "      <td>0</td>\n",
       "      <td>1</td>\n",
       "      <td>0</td>\n",
       "      <td>0</td>\n",
       "      <td>0</td>\n",
       "      <td>0</td>\n",
       "      <td>0</td>\n",
       "    </tr>\n",
       "    <tr>\n",
       "      <th>1</th>\n",
       "      <td>32</td>\n",
       "      <td>Female</td>\n",
       "      <td>165</td>\n",
       "      <td>65</td>\n",
       "      <td>Lightly Active</td>\n",
       "      <td>Vegetarian</td>\n",
       "      <td>1600</td>\n",
       "      <td>80</td>\n",
       "      <td>100.0</td>\n",
       "      <td>16.0</td>\n",
       "      <td>...</td>\n",
       "      <td>Vegetable stir-fry with brown rice</td>\n",
       "      <td>Apple with almond butter</td>\n",
       "      <td>Heart Disease</td>\n",
       "      <td>0</td>\n",
       "      <td>0</td>\n",
       "      <td>1</td>\n",
       "      <td>0</td>\n",
       "      <td>0</td>\n",
       "      <td>0</td>\n",
       "      <td>0</td>\n",
       "    </tr>\n",
       "    <tr>\n",
       "      <th>2</th>\n",
       "      <td>48</td>\n",
       "      <td>Male</td>\n",
       "      <td>175</td>\n",
       "      <td>95</td>\n",
       "      <td>Sedentary</td>\n",
       "      <td>Vegan</td>\n",
       "      <td>2200</td>\n",
       "      <td>100</td>\n",
       "      <td>150.0</td>\n",
       "      <td>20.0</td>\n",
       "      <td>...</td>\n",
       "      <td>Lentil and vegetable curry</td>\n",
       "      <td>Trail mix</td>\n",
       "      <td>Weight Gain</td>\n",
       "      <td>1</td>\n",
       "      <td>0</td>\n",
       "      <td>0</td>\n",
       "      <td>0</td>\n",
       "      <td>0</td>\n",
       "      <td>0</td>\n",
       "      <td>0</td>\n",
       "    </tr>\n",
       "  </tbody>\n",
       "</table>\n",
       "<p>5 rows × 26 columns</p>\n",
       "</div>"
      ],
      "text/plain": [
       "   Ages  Gender  Height  Weight     Activity Level Dietary Preference  \\\n",
       "0    25    Male     180      80  Moderately Active           Omnivore   \n",
       "1    32  Female     165      65     Lightly Active         Vegetarian   \n",
       "1    32  Female     165      65     Lightly Active         Vegetarian   \n",
       "1    32  Female     165      65     Lightly Active         Vegetarian   \n",
       "2    48    Male     175      95          Sedentary              Vegan   \n",
       "\n",
       "   Daily Calorie Target  Protein  Sugar  Sodium  ...  \\\n",
       "0                  2000      120  125.0    24.0  ...   \n",
       "1                  1600       80  100.0    16.0  ...   \n",
       "1                  1600       80  100.0    16.0  ...   \n",
       "1                  1600       80  100.0    16.0  ...   \n",
       "2                  2200      100  150.0    20.0  ...   \n",
       "\n",
       "                    Dinner Suggestion          Snack Suggestion  \\\n",
       "0      Salmon with roasted vegetables   Greek yogurt with fruit   \n",
       "1  Vegetable stir-fry with brown rice  Apple with almond butter   \n",
       "1  Vegetable stir-fry with brown rice  Apple with almond butter   \n",
       "1  Vegetable stir-fry with brown rice  Apple with almond butter   \n",
       "2          Lentil and vegetable curry                 Trail mix   \n",
       "\n",
       "         Disease  Weight Gain Hypertension Heart Disease Kidney Disease  \\\n",
       "0    Weight Gain            1            0             0              0   \n",
       "1    Weight Gain            1            0             0              0   \n",
       "1   Hypertension            0            1             0              0   \n",
       "1  Heart Disease            0            0             1              0   \n",
       "2    Weight Gain            1            0             0              0   \n",
       "\n",
       "  Diabetes Acne  Weight Loss  \n",
       "0        0    0            0  \n",
       "1        0    0            0  \n",
       "1        0    0            0  \n",
       "1        0    0            0  \n",
       "2        0    0            0  \n",
       "\n",
       "[5 rows x 26 columns]"
      ]
     },
     "metadata": {},
     "output_type": "display_data"
    }
   ],
   "source": [
    "# Generating binary columns for each disease (0 or 1) one-hot encoding\n",
    "for disease in common_diseases:\n",
    "    data_exploded[disease] = (data_exploded['Disease'] == disease).astype(int)\n",
    "\n",
    "display(data_exploded.head())"
   ]
  },
  {
   "cell_type": "code",
   "execution_count": 73,
   "metadata": {},
   "outputs": [],
   "source": [
    "# Load the dataset\n",
    "df = pd.read_csv('Food_and_Nutrition.csv')\n",
    "\n",
    "# Select relevant columns\n",
    "df = df[['Weight', 'Activity Level', 'Dietary Preference', 'Daily Calorie Target', 'Disease']]\n",
    "\n",
    "# Split the Disease column into lists of diseases\n",
    "df['Disease'] = df['Disease'].apply(lambda x: x.split(', ') if isinstance(x, str) else [])\n",
    "\n",
    "# Transform the Disease column into a binary matrix\n",
    "mlb = MultiLabelBinarizer()\n",
    "disease_matrix = mlb.fit_transform(df['Disease'])\n",
    "disease_df = pd.DataFrame(disease_matrix, columns=mlb.classes_)\n",
    "\n",
    "# Combine with original features\n",
    "df = df.drop(columns=['Disease'])\n",
    "df = pd.concat([df, disease_df], axis=1)\n",
    "\n",
    "# Encode categorical columns using one-hot encoding\n",
    "df = pd.get_dummies(df, columns=['Activity Level', 'Dietary Preference'], drop_first=True)\n",
    "\n",
    "# Split into features and targets\n",
    "X = df.drop(columns=mlb.classes_)\n",
    "y = df[mlb.classes_]\n",
    "\n",
    "# Split into training and testing sets\n",
    "X_train, X_test, y_train, y_test = train_test_split(X, y, test_size=0.2, random_state=42)\n",
    "\n",
    "# Initialize and train the model\n",
    "base_model = RandomForestClassifier(random_state=42, class_weight='balanced')\n",
    "model = MultiOutputClassifier(base_model)\n",
    "model.fit(X_train, y_train)\n",
    "\n",
    "# Make predictions\n",
    "y_pred = model.predict(X_test)\n"
   ]
  },
  {
   "cell_type": "code",
   "execution_count": 74,
   "metadata": {},
   "outputs": [
    {
     "name": "stdout",
     "output_type": "stream",
     "text": [
      "Predicted Diseases: ['Weight Gain']\n"
     ]
    }
   ],
   "source": [
    "def make_prediction(weight, activity_level, dietary_preference, calorie_target):\n",
    "    #  Prepare the input as a DataFrame with proper columns\n",
    "    input_data = pd.DataFrame({\n",
    "        'Weight': [weight],\n",
    "        'Daily Calorie Target': [calorie_target],\n",
    "        'Activity Level': [activity_level],\n",
    "        'Dietary Preference': [dietary_preference]\n",
    "    })\n",
    "\n",
    "    # One-hot encode the input to match training data\n",
    "    input_encoded = pd.get_dummies(input_data, columns=['Activity Level', 'Dietary Preference'], drop_first=True)\n",
    "\n",
    "    # Ensure all necessary columns are present (add missing columns with 0 values)\n",
    "    for col in X.columns:\n",
    "        if col not in input_encoded.columns:\n",
    "            input_encoded[col] = 0\n",
    "    input_encoded = input_encoded[X.columns]  # Ensure column order matches training data\n",
    "\n",
    "    # Make a prediction using the trained model\n",
    "    prediction = model.predict(input_encoded)\n",
    "\n",
    "    # Interpret the prediction\n",
    "    predicted_diseases = [mlb.classes_[i] for i, val in enumerate(prediction[0]) if val == 1]\n",
    "\n",
    "    return predicted_diseases\n",
    "\n",
    "# Example Usage: Give the values and get the predicted diseases\n",
    "sample_weight = 70  # Example weight\n",
    "sample_activity_level = 'Moderate'  # Example activity level\n",
    "sample_dietary_preference = 'Vegetarian'  # Example dietary preference\n",
    "sample_calorie_target = 2000  # Example calorie target\n",
    "\n",
    "predicted_diseases = make_prediction(sample_weight, sample_activity_level, sample_dietary_preference, sample_calorie_target)\n",
    "print(f\"Predicted Diseases: {predicted_diseases}\")\n"
   ]
  },
  {
   "cell_type": "code",
   "execution_count": 75,
   "metadata": {},
   "outputs": [
    {
     "name": "stdout",
     "output_type": "stream",
     "text": [
      "\n",
      "Random Forest Model Performance:\n",
      "Overall Accuracy: 0.78\n",
      "Hamming Loss: 0.05\n",
      "Macro-averaged Precision: 0.70\n",
      "Macro-averaged Recall: 0.56\n",
      "Macro-averaged F1 Score: 0.61\n",
      "\n",
      "Acne - Precision: 1.00, Recall: 0.93, F1 Score: 0.97\n",
      "\n",
      "Diabetes - Precision: 1.00, Recall: 0.93, F1 Score: 0.97\n",
      "\n",
      "Heart Disease - Precision: 0.84, Recall: 0.45, F1 Score: 0.59\n",
      "\n",
      "Hypertension - Precision: 0.82, Recall: 0.44, F1 Score: 0.57\n",
      "\n",
      "Kidney Disease - Precision: 0.24, Recall: 0.15, F1 Score: 0.19\n",
      "\n",
      "Weight Gain - Precision: 0.99, Recall: 1.00, F1 Score: 1.00\n",
      "\n",
      "Weight Loss - No true samples in test set, skipping metrics.\n",
      "\n",
      "Classification Report:\n",
      "                precision    recall  f1-score   support\n",
      "\n",
      "          Acne       1.00      0.93      0.97        15\n",
      "      Diabetes       1.00      0.93      0.97        15\n",
      " Heart Disease       0.84      0.45      0.59        60\n",
      "  Hypertension       0.82      0.44      0.57        61\n",
      "Kidney Disease       0.24      0.15      0.19        33\n",
      "   Weight Gain       0.99      1.00      1.00       335\n",
      "   Weight Loss       0.00      0.00      0.00         0\n",
      "\n",
      "     micro avg       0.94      0.81      0.87       519\n",
      "     macro avg       0.70      0.56      0.61       519\n",
      "  weighted avg       0.91      0.81      0.85       519\n",
      "   samples avg       0.97      0.90      0.91       519\n",
      "\n"
     ]
    },
    {
     "data": {
      "image/png": "[encoded data removed]",
      "text/plain": [
       "<Figure size 1000x1000 with 1 Axes>"
      ]
     },
     "metadata": {},
     "output_type": "display_data"
    },
    {
     "data": {
      "text/plain": [
       "(0.7823529411764706,\n",
       " 0.052941176470588235,\n",
       " array([1.        , 1.        , 0.84375   , 0.81818182, 0.23809524,\n",
       "        0.99406528, 0.        ]),\n",
       " array([0.93333333, 0.93333333, 0.45      , 0.44262295, 0.15151515,\n",
       "        1.        , 0.        ]),\n",
       " array([0.96551724, 0.96551724, 0.58695652, 0.57446809, 0.18518519,\n",
       "        0.99702381, 0.        ]),\n",
       " 0.699156048310881,\n",
       " 0.5586863955716415,\n",
       " 0.6106668691875898)"
      ]
     },
     "execution_count": 75,
     "metadata": {},
     "output_type": "execute_result"
    }
   ],
   "source": [
    "\n",
    "def evaluate_model(name, y_test, y_pred, mlb_classes):\n",
    "    # Step 1: Calculate Overall Metrics\n",
    "    accuracy = accuracy_score(y_test, y_pred)\n",
    "    hamming = hamming_loss(y_test, y_pred)\n",
    "    macro_precision, macro_recall, macro_f1, _ = precision_recall_fscore_support(\n",
    "        y_test, y_pred, average=\"macro\", zero_division=0\n",
    "    )\n",
    "    \n",
    "    # Step 2: Print Overall Metrics\n",
    "    print(f\"\\n{name} Model Performance:\")\n",
    "    print(f\"Overall Accuracy: {accuracy:.2f}\")\n",
    "    print(f\"Hamming Loss: {hamming:.2f}\")\n",
    "    print(f\"Macro-averaged Precision: {macro_precision:.2f}\")\n",
    "    print(f\"Macro-averaged Recall: {macro_recall:.2f}\")\n",
    "    print(f\"Macro-averaged F1 Score: {macro_f1:.2f}\")\n",
    "    \n",
    "    # Step 3: Per-label Metrics\n",
    "    precision, recall, f1, _ = precision_recall_fscore_support(\n",
    "        y_test, y_pred, average=None, zero_division=0\n",
    "    )\n",
    "    for i, disease in enumerate(mlb_classes):\n",
    "        if y_test[disease].sum() == 0:\n",
    "            print(f\"\\n{disease} - No true samples in test set, skipping metrics.\")\n",
    "            continue\n",
    "        print(f\"\\n{disease} - Precision: {precision[i]:.2f}, Recall: {recall[i]:.2f}, F1 Score: {f1[i]:.2f}\")\n",
    "    \n",
    "    # Step 4: Classification Report\n",
    "    print(\"\\nClassification Report:\")\n",
    "    report = classification_report(y_test, y_pred, target_names=mlb_classes, zero_division=0)\n",
    "    print(report)\n",
    "    \n",
    "    # Step 5: Confusion Matrix\n",
    "    matrix = confusion_matrix(y_test.values.argmax(axis=1), y_pred.argmax(axis=1))\n",
    "    plt.figure(figsize=(10, 10))\n",
    "    sns.heatmap(matrix, annot=True, fmt='d', cmap='Blues', cbar=False)\n",
    "    plt.xlabel('Predicted Label')\n",
    "    plt.ylabel('True Label')\n",
    "    plt.title(f'{name} Model Confusion Matrix')\n",
    "    plt.show()\n",
    "    \n",
    "    return accuracy, hamming, precision, recall, f1, macro_precision, macro_recall, macro_f1\n",
    "\n",
    "# Example usage:\n",
    "# Assuming `model` is already trained and `X_test`, `y_test`, and `mlb.classes_` are available\n",
    "y_pred = model.predict(X_test)\n",
    "evaluate_model(\"Random Forest\", y_test, y_pred, mlb.classes_)\n"
   ]
  },
  {
   "cell_type": "code",
   "execution_count": 76,
   "metadata": {},
   "outputs": [],
   "source": [
    "\n",
    "# Step 1: Load the dataset\n",
    "df = pd.read_csv('Food_and_Nutrition.csv')\n",
    "\n",
    "# Step 2: Select relevant columns\n",
    "df = df[['Weight', 'Activity Level', 'Dietary Preference', 'Daily Calorie Target', 'Disease']]\n",
    "df['Disease'] = df['Disease'].apply(lambda x: x.split(', ') if isinstance(x, str) else [])\n",
    "\n",
    "# Step 3: Transform the Disease column into a binary matrix\n",
    "mlb = MultiLabelBinarizer()\n",
    "disease_matrix = mlb.fit_transform(df['Disease'])\n",
    "disease_df = pd.DataFrame(disease_matrix, columns=mlb.classes_)\n",
    "\n",
    "# Step 4: Combine with original features and drop 'Disease'\n",
    "df = df.drop(columns=['Disease'])\n",
    "df = pd.concat([df, disease_df], axis=1)\n",
    "\n",
    "# Step 5: One-hot encode categorical features\n",
    "encoder = OneHotEncoder(sparse_output=False, handle_unknown='ignore')\n",
    "encoded_features = encoder.fit_transform(df[['Activity Level', 'Dietary Preference']])\n",
    "encoded_feature_names = encoder.get_feature_names_out(['Activity Level', 'Dietary Preference'])\n",
    "encoded_df = pd.DataFrame(encoded_features, columns=encoded_feature_names)\n",
    "\n",
    "# Step 6: Combine the encoded features with the original DataFrame\n",
    "df = pd.concat([df.drop(columns=['Activity Level', 'Dietary Preference']), encoded_df], axis=1)\n",
    "\n",
    "# Step 7: Split into features and targets\n",
    "X = df.drop(columns=mlb.classes_)\n",
    "y = df[mlb.classes_]\n",
    "\n",
    "# Step 8: Split into training and testing sets\n",
    "X_train, X_test, y_train, y_test = train_test_split(X, y, test_size=0.2, random_state=42)\n",
    "\n",
    "# Step 9: Train the Random Forest model\n",
    "base_model_rf = RandomForestClassifier(random_state=42, class_weight='balanced')\n",
    "model_rf = MultiOutputClassifier(base_model_rf)\n",
    "model_rf.fit(X_train, y_train)\n",
    "y_pred_rf = model_rf.predict(X_test)\n",
    "\n",
    "# Step 10: Train the KNN model\n",
    "base_model_knn = KNeighborsClassifier(n_neighbors=5)\n",
    "model_knn = MultiOutputClassifier(base_model_knn)\n",
    "model_knn.fit(X_train, y_train)\n",
    "y_pred_knn = model_knn.predict(X_test)\n"
   ]
  },
  {
   "cell_type": "code",
   "execution_count": 77,
   "metadata": {},
   "outputs": [
    {
     "name": "stdout",
     "output_type": "stream",
     "text": [
      "\n",
      "Random Forest Model Metrics:\n",
      "Classification Report for Acne:\n",
      "              precision    recall  f1-score   support\n",
      "\n",
      "           0       1.00      1.00      1.00       325\n",
      "           1       1.00      0.93      0.97        15\n",
      "\n",
      "    accuracy                           1.00       340\n",
      "   macro avg       1.00      0.97      0.98       340\n",
      "weighted avg       1.00      1.00      1.00       340\n",
      "\n",
      "==================================================\n",
      "Classification Report for Diabetes:\n",
      "              precision    recall  f1-score   support\n",
      "\n",
      "           0       1.00      1.00      1.00       325\n",
      "           1       1.00      0.93      0.97        15\n",
      "\n",
      "    accuracy                           1.00       340\n",
      "   macro avg       1.00      0.97      0.98       340\n",
      "weighted avg       1.00      1.00      1.00       340\n",
      "\n",
      "==================================================\n",
      "Classification Report for Heart Disease:\n",
      "              precision    recall  f1-score   support\n",
      "\n",
      "           0       0.89      0.98      0.94       280\n",
      "           1       0.84      0.45      0.59        60\n",
      "\n",
      "    accuracy                           0.89       340\n",
      "   macro avg       0.87      0.72      0.76       340\n",
      "weighted avg       0.88      0.89      0.87       340\n",
      "\n",
      "==================================================\n",
      "Classification Report for Hypertension:\n",
      "              precision    recall  f1-score   support\n",
      "\n",
      "           0       0.89      0.97      0.93       279\n",
      "           1       0.79      0.44      0.57        61\n",
      "\n",
      "    accuracy                           0.88       340\n",
      "   macro avg       0.84      0.71      0.75       340\n",
      "weighted avg       0.87      0.88      0.87       340\n",
      "\n",
      "==================================================\n",
      "Classification Report for Kidney Disease:\n",
      "              precision    recall  f1-score   support\n",
      "\n",
      "           0       0.91      0.94      0.93       307\n",
      "           1       0.23      0.15      0.18        33\n",
      "\n",
      "    accuracy                           0.87       340\n",
      "   macro avg       0.57      0.55      0.55       340\n",
      "weighted avg       0.85      0.87      0.86       340\n",
      "\n",
      "==================================================\n",
      "Classification Report for Weight Gain:\n",
      "              precision    recall  f1-score   support\n",
      "\n",
      "           0       1.00      0.40      0.57         5\n",
      "           1       0.99      1.00      1.00       335\n",
      "\n",
      "    accuracy                           0.99       340\n",
      "   macro avg       1.00      0.70      0.78       340\n",
      "weighted avg       0.99      0.99      0.99       340\n",
      "\n",
      "==================================================\n",
      "Classification Report for Weight Loss:\n",
      "              precision    recall  f1-score   support\n",
      "\n",
      "           0       1.00      1.00      1.00       340\n",
      "\n",
      "    accuracy                           1.00       340\n",
      "   macro avg       1.00      1.00      1.00       340\n",
      "weighted avg       1.00      1.00      1.00       340\n",
      "\n",
      "==================================================\n",
      "\n",
      "K-Nearest Neighbors Model Metrics:\n",
      "Classification Report for Acne:\n",
      "              precision    recall  f1-score   support\n",
      "\n",
      "           0       0.99      1.00      1.00       325\n",
      "           1       1.00      0.80      0.89        15\n",
      "\n",
      "    accuracy                           0.99       340\n",
      "   macro avg       1.00      0.90      0.94       340\n",
      "weighted avg       0.99      0.99      0.99       340\n",
      "\n",
      "==================================================\n",
      "Classification Report for Diabetes:\n",
      "              precision    recall  f1-score   support\n",
      "\n",
      "           0       0.99      1.00      1.00       325\n",
      "           1       1.00      0.80      0.89        15\n",
      "\n",
      "    accuracy                           0.99       340\n",
      "   macro avg       1.00      0.90      0.94       340\n",
      "weighted avg       0.99      0.99      0.99       340\n",
      "\n",
      "==================================================\n",
      "Classification Report for Heart Disease:\n",
      "              precision    recall  f1-score   support\n",
      "\n",
      "           0       0.90      0.97      0.94       280\n",
      "           1       0.81      0.50      0.62        60\n",
      "\n",
      "    accuracy                           0.89       340\n",
      "   macro avg       0.86      0.74      0.78       340\n",
      "weighted avg       0.89      0.89      0.88       340\n",
      "\n",
      "==================================================\n",
      "Classification Report for Hypertension:\n",
      "              precision    recall  f1-score   support\n",
      "\n",
      "           0       0.90      0.97      0.93       279\n",
      "           1       0.81      0.49      0.61        61\n",
      "\n",
      "    accuracy                           0.89       340\n",
      "   macro avg       0.85      0.73      0.77       340\n",
      "weighted avg       0.88      0.89      0.88       340\n",
      "\n",
      "==================================================\n",
      "Classification Report for Kidney Disease:\n",
      "              precision    recall  f1-score   support\n",
      "\n",
      "           0       0.92      0.97      0.94       307\n",
      "           1       0.40      0.18      0.25        33\n",
      "\n",
      "    accuracy                           0.89       340\n",
      "   macro avg       0.66      0.58      0.60       340\n",
      "weighted avg       0.87      0.89      0.88       340\n",
      "\n",
      "==================================================\n",
      "Classification Report for Weight Gain:\n",
      "              precision    recall  f1-score   support\n",
      "\n",
      "           0       1.00      0.80      0.89         5\n",
      "           1       1.00      1.00      1.00       335\n",
      "\n",
      "    accuracy                           1.00       340\n",
      "   macro avg       1.00      0.90      0.94       340\n",
      "weighted avg       1.00      1.00      1.00       340\n",
      "\n",
      "==================================================\n",
      "Classification Report for Weight Loss:\n",
      "              precision    recall  f1-score   support\n",
      "\n",
      "           0       1.00      1.00      1.00       340\n",
      "\n",
      "    accuracy                           1.00       340\n",
      "   macro avg       1.00      1.00      1.00       340\n",
      "weighted avg       1.00      1.00      1.00       340\n",
      "\n",
      "==================================================\n",
      "\n",
      "Aggregated Metrics for Random Forest:\n",
      "Acne - Precision: 1.00, Recall: 0.93, F1 Score: 0.97\n",
      "Diabetes - Precision: 1.00, Recall: 0.93, F1 Score: 0.97\n",
      "Heart Disease - Precision: 0.84, Recall: 0.45, F1 Score: 0.59\n",
      "Hypertension - Precision: 0.79, Recall: 0.44, F1 Score: 0.57\n",
      "Kidney Disease - Precision: 0.23, Recall: 0.15, F1 Score: 0.18\n",
      "Weight Gain - Precision: 0.99, Recall: 1.00, F1 Score: 1.00\n",
      "Weight Loss - Precision: 0.00, Recall: 0.00, F1 Score: 0.00\n",
      "\n",
      "Aggregated Metrics for K-Nearest Neighbors:\n",
      "Acne - Precision: 1.00, Recall: 0.80, F1 Score: 0.89\n",
      "Diabetes - Precision: 1.00, Recall: 0.80, F1 Score: 0.89\n",
      "Heart Disease - Precision: 0.81, Recall: 0.50, F1 Score: 0.62\n",
      "Hypertension - Precision: 0.81, Recall: 0.49, F1 Score: 0.61\n",
      "Kidney Disease - Precision: 0.40, Recall: 0.18, F1 Score: 0.25\n",
      "Weight Gain - Precision: 1.00, Recall: 1.00, F1 Score: 1.00\n",
      "Weight Loss - Precision: 0.00, Recall: 0.00, F1 Score: 0.00\n",
      "Exact Match Accuracy (Random Forest): 0.78\n",
      "Exact Match Accuracy (KNN): 0.80\n",
      "Hamming Loss (Random Forest): 0.05\n",
      "Hamming Loss (KNN): 0.05\n"
     ]
    },
    {
     "data": {
      "image/png": "[encoded data removed]",
      "text/plain": [
       "<Figure size 1000x1000 with 1 Axes>"
      ]
     },
     "metadata": {},
     "output_type": "display_data"
    },
    {
     "data": {
      "image/png": "[encoded data removed]",
      "text/plain": [
       "<Figure size 1000x1000 with 1 Axes>"
      ]
     },
     "metadata": {},
     "output_type": "display_data"
    },
    {
     "data": {
      "image/png": "[encoded data removed]",
      "text/plain": [
       "<Figure size 640x480 with 1 Axes>"
      ]
     },
     "metadata": {},
     "output_type": "display_data"
    }
   ],
   "source": [
    "from sklearn.metrics import (\n",
    "    accuracy_score,\n",
    "    hamming_loss,\n",
    "    precision_recall_fscore_support,\n",
    "    classification_report,\n",
    "    confusion_matrix\n",
    ")\n",
    "import seaborn as sns\n",
    "import matplotlib.pyplot as plt\n",
    "\n",
    "# Step 11: Evaluate both models\n",
    "print(\"\\nRandom Forest Model Metrics:\")\n",
    "for i, disease in enumerate(mlb.classes_):\n",
    "    print(f\"Classification Report for {disease}:\")\n",
    "    print(classification_report(y_test[disease], y_pred_rf[:, i], zero_division=0))\n",
    "    print(\"=\" * 50)\n",
    "\n",
    "print(\"\\nK-Nearest Neighbors Model Metrics:\")\n",
    "for i, disease in enumerate(mlb.classes_):\n",
    "    print(f\"Classification Report for {disease}:\")\n",
    "    print(classification_report(y_test[disease], y_pred_knn[:, i], zero_division=0))\n",
    "    print(\"=\" * 50)\n",
    "\n",
    "# Step 12: Aggregate metrics for both models\n",
    "print(\"\\nAggregated Metrics for Random Forest:\")\n",
    "precision_rf, recall_rf, f1_rf, _ = precision_recall_fscore_support(\n",
    "    y_test, y_pred_rf, average=None, zero_division=0\n",
    ")\n",
    "for i, disease in enumerate(mlb.classes_):\n",
    "    print(f\"{disease} - Precision: {precision_rf[i]:.2f}, Recall: {recall_rf[i]:.2f}, F1 Score: {f1_rf[i]:.2f}\")\n",
    "\n",
    "print(\"\\nAggregated Metrics for K-Nearest Neighbors:\")\n",
    "precision_knn, recall_knn, f1_knn, _ = precision_recall_fscore_support(\n",
    "    y_test, y_pred_knn, average=None, zero_division=0\n",
    ")\n",
    "for i, disease in enumerate(mlb.classes_):\n",
    "    print(f\"{disease} - Precision: {precision_knn[i]:.2f}, Recall: {recall_knn[i]:.2f}, F1 Score: {f1_knn[i]:.2f}\")\n",
    "\n",
    "# Exact match accuracy\n",
    "exact_match_accuracy_rf = accuracy_score(y_test, y_pred_rf)\n",
    "print(f\"Exact Match Accuracy (Random Forest): {exact_match_accuracy_rf:.2f}\")\n",
    "\n",
    "exact_match_accuracy_knn = accuracy_score(y_test, y_pred_knn)\n",
    "print(f\"Exact Match Accuracy (KNN): {exact_match_accuracy_knn:.2f}\")\n",
    "\n",
    "# Hamming Loss\n",
    "hamming_loss_rf = hamming_loss(y_test, y_pred_rf)\n",
    "hamming_loss_knn = hamming_loss(y_test, y_pred_knn)\n",
    "\n",
    "print(f\"Hamming Loss (Random Forest): {hamming_loss_rf:.2f}\")\n",
    "print(f\"Hamming Loss (KNN): {hamming_loss_knn:.2f}\")\n",
    "\n",
    "# Step 13: Confusion Matrix for Random Forest\n",
    "matrix_rf = confusion_matrix(y_test.values.argmax(axis=1), y_pred_rf.argmax(axis=1))\n",
    "plt.figure(figsize=(10, 10))\n",
    "sns.heatmap(matrix_rf, annot=True, fmt='d', cmap='Blues', cbar=False)\n",
    "plt.xlabel('Predicted Label')\n",
    "plt.ylabel('True Label')\n",
    "plt.title('Random Forest Confusion Matrix')\n",
    "plt.show()\n",
    "\n",
    "# Step 14: Confusion Matrix for KNN\n",
    "matrix_knn = confusion_matrix(y_test.values.argmax(axis=1), y_pred_knn.argmax(axis=1))\n",
    "plt.figure(figsize=(10, 10))\n",
    "sns.heatmap(matrix_knn, annot=True, fmt='d', cmap='Greens', cbar=False)\n",
    "plt.xlabel('Predicted Label')\n",
    "plt.ylabel('True Label')\n",
    "plt.title('K-Nearest Neighbors Confusion Matrix')\n",
    "plt.show()\n",
    "\n",
    "# Step 15: Bar Graph Comparison of Accuracy and Hamming Loss\n",
    "metrics = ['Accuracy', 'Hamming Loss']\n",
    "rf_values = [exact_match_accuracy_rf, hamming_loss_rf]\n",
    "knn_values = [exact_match_accuracy_knn, hamming_loss_knn]\n",
    "\n",
    "x = range(len(metrics))\n",
    "plt.bar(x, rf_values, width=0.4, label='Random Forest', align='center')\n",
    "plt.bar([i + 0.4 for i in x], knn_values, width=0.4, label='KNN', align='center')\n",
    "\n",
    "plt.xticks([i + 0.2 for i in x], metrics)\n",
    "plt.ylabel('Score')\n",
    "plt.title('Model Comparison (Random Forest vs KNN)')\n",
    "plt.legend()\n",
    "plt.show()\n"
   ]
  },
  {
   "cell_type": "code",
   "execution_count": 78,
   "metadata": {},
   "outputs": [
    {
     "data": {
      "application/vnd.plotly.v1+json": {
       "config": {
        "plotlyServerURL": "https://plot.ly"
       },
       "data": [
        {
         "marker": {
          "color": "blue"
         },
         "name": "KNN Precision",
         "type": "bar",
         "x": [
          "Acne",
          "Diabetes",
          "Heart Disease",
          "Hypertension",
          "Kidney Disease",
          "Weight Gain",
          "Weight Loss"
         ],
         "y": [
          1,
          1,
          0.8108108108108109,
          0.8108108108108109,
          0.4,
          0.9970238095238095,
          0
         ]
        },
        {
         "marker": {
          "color": "green"
         },
         "name": "KNN Recall",
         "type": "bar",
         "x": [
          "Acne",
          "Diabetes",
          "Heart Disease",
          "Hypertension",
          "Kidney Disease",
          "Weight Gain",
          "Weight Loss"
         ],
         "y": [
          0.8,
          0.8,
          0.5,
          0.4918032786885246,
          0.18181818181818182,
          1,
          0
         ]
        },
        {
         "marker": {
          "color": "purple"
         },
         "name": "KNN F1 Score",
         "type": "bar",
         "x": [
          "Acne",
          "Diabetes",
          "Heart Disease",
          "Hypertension",
          "Kidney Disease",
          "Weight Gain",
          "Weight Loss"
         ],
         "y": [
          0.888888888888889,
          0.888888888888889,
          0.6185567010309277,
          0.6122448979591837,
          0.25000000000000006,
          0.9985096870342772,
          0
         ]
        },
        {
         "marker": {
          "color": "orange"
         },
         "name": "RF Precision",
         "type": "bar",
         "x": [
          "Acne",
          "Diabetes",
          "Heart Disease",
          "Hypertension",
          "Kidney Disease",
          "Weight Gain",
          "Weight Loss"
         ],
         "y": [
          1,
          1,
          0.84375,
          0.7941176470588235,
          0.22727272727272727,
          0.9911242603550295,
          0
         ]
        },
        {
         "marker": {
          "color": "red"
         },
         "name": "RF Recall",
         "type": "bar",
         "x": [
          "Acne",
          "Diabetes",
          "Heart Disease",
          "Hypertension",
          "Kidney Disease",
          "Weight Gain",
          "Weight Loss"
         ],
         "y": [
          0.9333333333333333,
          0.9333333333333333,
          0.45,
          0.4426229508196721,
          0.15151515151515152,
          1,
          0
         ]
        },
        {
         "marker": {
          "color": "brown"
         },
         "name": "RF F1 Score",
         "type": "bar",
         "x": [
          "Acne",
          "Diabetes",
          "Heart Disease",
          "Hypertension",
          "Kidney Disease",
          "Weight Gain",
          "Weight Loss"
         ],
         "y": [
          0.9655172413793104,
          0.9655172413793104,
          0.5869565217391305,
          0.5684210526315789,
          0.18181818181818182,
          0.9955423476968795,
          0
         ]
        }
       ],
       "layout": {
        "barmode": "group",
        "legend": {
         "title": {
          "text": "Metric Type"
         }
        },
        "template": {
         "data": {
          "bar": [
           {
            "error_x": {
             "color": "#2a3f5f"
            },
            "error_y": {
             "color": "#2a3f5f"
            },
            "marker": {
             "line": {
              "color": "#E5ECF6",
              "width": 0.5
             },
             "pattern": {
              "fillmode": "overlay",
              "size": 10,
              "solidity": 0.2
             }
            },
            "type": "bar"
           }
          ],
          "barpolar": [
           {
            "marker": {
             "line": {
              "color": "#E5ECF6",
              "width": 0.5
             },
             "pattern": {
              "fillmode": "overlay",
              "size": 10,
              "solidity": 0.2
             }
            },
            "type": "barpolar"
           }
          ],
          "carpet": [
           {
            "aaxis": {
             "endlinecolor": "#2a3f5f",
             "gridcolor": "white",
             "linecolor": "white",
             "minorgridcolor": "white",
             "startlinecolor": "#2a3f5f"
            },
            "baxis": {
             "endlinecolor": "#2a3f5f",
             "gridcolor": "white",
             "linecolor": "white",
             "minorgridcolor": "white",
             "startlinecolor": "#2a3f5f"
            },
            "type": "carpet"
           }
          ],
          "choropleth": [
           {
            "colorbar": {
             "outlinewidth": 0,
             "ticks": ""
            },
            "type": "choropleth"
           }
          ],
          "contour": [
           {
            "colorbar": {
             "outlinewidth": 0,
             "ticks": ""
            },
            "colorscale": [
             [
              0,
              "#0d0887"
             ],
             [
              0.1111111111111111,
              "#46039f"
             ],
             [
              0.2222222222222222,
              "#7201a8"
             ],
             [
              0.3333333333333333,
              "#9c179e"
             ],
             [
              0.4444444444444444,
              "#bd3786"
             ],
             [
              0.5555555555555556,
              "#d8576b"
             ],
             [
              0.6666666666666666,
              "#ed7953"
             ],
             [
              0.7777777777777778,
              "#fb9f3a"
             ],
             [
              0.8888888888888888,
              "#fdca26"
             ],
             [
              1,
              "#f0f921"
             ]
            ],
            "type": "contour"
           }
          ],
          "contourcarpet": [
           {
            "colorbar": {
             "outlinewidth": 0,
             "ticks": ""
            },
            "type": "contourcarpet"
           }
          ],
          "heatmap": [
           {
            "colorbar": {
             "outlinewidth": 0,
             "ticks": ""
            },
            "colorscale": [
             [
              0,
              "#0d0887"
             ],
             [
              0.1111111111111111,
              "#46039f"
             ],
             [
              0.2222222222222222,
              "#7201a8"
             ],
             [
              0.3333333333333333,
              "#9c179e"
             ],
             [
              0.4444444444444444,
              "#bd3786"
             ],
             [
              0.5555555555555556,
              "#d8576b"
             ],
             [
              0.6666666666666666,
              "#ed7953"
             ],
             [
              0.7777777777777778,
              "#fb9f3a"
             ],
             [
              0.8888888888888888,
              "#fdca26"
             ],
             [
              1,
              "#f0f921"
             ]
            ],
            "type": "heatmap"
           }
          ],
          "heatmapgl": [
           {
            "colorbar": {
             "outlinewidth": 0,
             "ticks": ""
            },
            "colorscale": [
             [
              0,
              "#0d0887"
             ],
             [
              0.1111111111111111,
              "#46039f"
             ],
             [
              0.2222222222222222,
              "#7201a8"
             ],
             [
              0.3333333333333333,
              "#9c179e"
             ],
             [
              0.4444444444444444,
              "#bd3786"
             ],
             [
              0.5555555555555556,
              "#d8576b"
             ],
             [
              0.6666666666666666,
              "#ed7953"
             ],
             [
              0.7777777777777778,
              "#fb9f3a"
             ],
             [
              0.8888888888888888,
              "#fdca26"
             ],
             [
              1,
              "#f0f921"
             ]
            ],
            "type": "heatmapgl"
           }
          ],
          "histogram": [
           {
            "marker": {
             "pattern": {
              "fillmode": "overlay",
              "size": 10,
              "solidity": 0.2
             }
            },
            "type": "histogram"
           }
          ],
          "histogram2d": [
           {
            "colorbar": {
             "outlinewidth": 0,
             "ticks": ""
            },
            "colorscale": [
             [
              0,
              "#0d0887"
             ],
             [
              0.1111111111111111,
              "#46039f"
             ],
             [
              0.2222222222222222,
              "#7201a8"
             ],
             [
              0.3333333333333333,
              "#9c179e"
             ],
             [
              0.4444444444444444,
              "#bd3786"
             ],
             [
              0.5555555555555556,
              "#d8576b"
             ],
             [
              0.6666666666666666,
              "#ed7953"
             ],
             [
              0.7777777777777778,
              "#fb9f3a"
             ],
             [
              0.8888888888888888,
              "#fdca26"
             ],
             [
              1,
              "#f0f921"
             ]
            ],
            "type": "histogram2d"
           }
          ],
          "histogram2dcontour": [
           {
            "colorbar": {
             "outlinewidth": 0,
             "ticks": ""
            },
            "colorscale": [
             [
              0,
              "#0d0887"
             ],
             [
              0.1111111111111111,
              "#46039f"
             ],
             [
              0.2222222222222222,
              "#7201a8"
             ],
             [
              0.3333333333333333,
              "#9c179e"
             ],
             [
              0.4444444444444444,
              "#bd3786"
             ],
             [
              0.5555555555555556,
              "#d8576b"
             ],
             [
              0.6666666666666666,
              "#ed7953"
             ],
             [
              0.7777777777777778,
              "#fb9f3a"
             ],
             [
              0.8888888888888888,
              "#fdca26"
             ],
             [
              1,
              "#f0f921"
             ]
            ],
            "type": "histogram2dcontour"
           }
          ],
          "mesh3d": [
           {
            "colorbar": {
             "outlinewidth": 0,
             "ticks": ""
            },
            "type": "mesh3d"
           }
          ],
          "parcoords": [
           {
            "line": {
             "colorbar": {
              "outlinewidth": 0,
              "ticks": ""
             }
            },
            "type": "parcoords"
           }
          ],
          "pie": [
           {
            "automargin": true,
            "type": "pie"
           }
          ],
          "scatter": [
           {
            "fillpattern": {
             "fillmode": "overlay",
             "size": 10,
             "solidity": 0.2
            },
            "type": "scatter"
           }
          ],
          "scatter3d": [
           {
            "line": {
             "colorbar": {
              "outlinewidth": 0,
              "ticks": ""
             }
            },
            "marker": {
             "colorbar": {
              "outlinewidth": 0,
              "ticks": ""
             }
            },
            "type": "scatter3d"
           }
          ],
          "scattercarpet": [
           {
            "marker": {
             "colorbar": {
              "outlinewidth": 0,
              "ticks": ""
             }
            },
            "type": "scattercarpet"
           }
          ],
          "scattergeo": [
           {
            "marker": {
             "colorbar": {
              "outlinewidth": 0,
              "ticks": ""
             }
            },
            "type": "scattergeo"
           }
          ],
          "scattergl": [
           {
            "marker": {
             "colorbar": {
              "outlinewidth": 0,
              "ticks": ""
             }
            },
            "type": "scattergl"
           }
          ],
          "scattermapbox": [
           {
            "marker": {
             "colorbar": {
              "outlinewidth": 0,
              "ticks": ""
             }
            },
            "type": "scattermapbox"
           }
          ],
          "scatterpolar": [
           {
            "marker": {
             "colorbar": {
              "outlinewidth": 0,
              "ticks": ""
             }
            },
            "type": "scatterpolar"
           }
          ],
          "scatterpolargl": [
           {
            "marker": {
             "colorbar": {
              "outlinewidth": 0,
              "ticks": ""
             }
            },
            "type": "scatterpolargl"
           }
          ],
          "scatterternary": [
           {
            "marker": {
             "colorbar": {
              "outlinewidth": 0,
              "ticks": ""
             }
            },
            "type": "scatterternary"
           }
          ],
          "surface": [
           {
            "colorbar": {
             "outlinewidth": 0,
             "ticks": ""
            },
            "colorscale": [
             [
              0,
              "#0d0887"
             ],
             [
              0.1111111111111111,
              "#46039f"
             ],
             [
              0.2222222222222222,
              "#7201a8"
             ],
             [
              0.3333333333333333,
              "#9c179e"
             ],
             [
              0.4444444444444444,
              "#bd3786"
             ],
             [
              0.5555555555555556,
              "#d8576b"
             ],
             [
              0.6666666666666666,
              "#ed7953"
             ],
             [
              0.7777777777777778,
              "#fb9f3a"
             ],
             [
              0.8888888888888888,
              "#fdca26"
             ],
             [
              1,
              "#f0f921"
             ]
            ],
            "type": "surface"
           }
          ],
          "table": [
           {
            "cells": {
             "fill": {
              "color": "#EBF0F8"
             },
             "line": {
              "color": "white"
             }
            },
            "header": {
             "fill": {
              "color": "#C8D4E3"
             },
             "line": {
              "color": "white"
             }
            },
            "type": "table"
           }
          ]
         },
         "layout": {
          "annotationdefaults": {
           "arrowcolor": "#2a3f5f",
           "arrowhead": 0,
           "arrowwidth": 1
          },
          "autotypenumbers": "strict",
          "coloraxis": {
           "colorbar": {
            "outlinewidth": 0,
            "ticks": ""
           }
          },
          "colorscale": {
           "diverging": [
            [
             0,
             "#8e0152"
            ],
            [
             0.1,
             "#c51b7d"
            ],
            [
             0.2,
             "#de77ae"
            ],
            [
             0.3,
             "#f1b6da"
            ],
            [
             0.4,
             "#fde0ef"
            ],
            [
             0.5,
             "#f7f7f7"
            ],
            [
             0.6,
             "#e6f5d0"
            ],
            [
             0.7,
             "#b8e186"
            ],
            [
             0.8,
             "#7fbc41"
            ],
            [
             0.9,
             "#4d9221"
            ],
            [
             1,
             "#276419"
            ]
           ],
           "sequential": [
            [
             0,
             "#0d0887"
            ],
            [
             0.1111111111111111,
             "#46039f"
            ],
            [
             0.2222222222222222,
             "#7201a8"
            ],
            [
             0.3333333333333333,
             "#9c179e"
            ],
            [
             0.4444444444444444,
             "#bd3786"
            ],
            [
             0.5555555555555556,
             "#d8576b"
            ],
            [
             0.6666666666666666,
             "#ed7953"
            ],
            [
             0.7777777777777778,
             "#fb9f3a"
            ],
            [
             0.8888888888888888,
             "#fdca26"
            ],
            [
             1,
             "#f0f921"
            ]
           ],
           "sequentialminus": [
            [
             0,
             "#0d0887"
            ],
            [
             0.1111111111111111,
             "#46039f"
            ],
            [
             0.2222222222222222,
             "#7201a8"
            ],
            [
             0.3333333333333333,
             "#9c179e"
            ],
            [
             0.4444444444444444,
             "#bd3786"
            ],
            [
             0.5555555555555556,
             "#d8576b"
            ],
            [
             0.6666666666666666,
             "#ed7953"
            ],
            [
             0.7777777777777778,
             "#fb9f3a"
            ],
            [
             0.8888888888888888,
             "#fdca26"
            ],
            [
             1,
             "#f0f921"
            ]
           ]
          },
          "colorway": [
           "#636efa",
           "#EF553B",
           "#00cc96",
           "#ab63fa",
           "#FFA15A",
           "#19d3f3",
           "#FF6692",
           "#B6E880",
           "#FF97FF",
           "#FECB52"
          ],
          "font": {
           "color": "#2a3f5f"
          },
          "geo": {
           "bgcolor": "white",
           "lakecolor": "white",
           "landcolor": "#E5ECF6",
           "showlakes": true,
           "showland": true,
           "subunitcolor": "white"
          },
          "hoverlabel": {
           "align": "left"
          },
          "hovermode": "closest",
          "mapbox": {
           "style": "light"
          },
          "paper_bgcolor": "white",
          "plot_bgcolor": "#E5ECF6",
          "polar": {
           "angularaxis": {
            "gridcolor": "white",
            "linecolor": "white",
            "ticks": ""
           },
           "bgcolor": "#E5ECF6",
           "radialaxis": {
            "gridcolor": "white",
            "linecolor": "white",
            "ticks": ""
           }
          },
          "scene": {
           "xaxis": {
            "backgroundcolor": "#E5ECF6",
            "gridcolor": "white",
            "gridwidth": 2,
            "linecolor": "white",
            "showbackground": true,
            "ticks": "",
            "zerolinecolor": "white"
           },
           "yaxis": {
            "backgroundcolor": "#E5ECF6",
            "gridcolor": "white",
            "gridwidth": 2,
            "linecolor": "white",
            "showbackground": true,
            "ticks": "",
            "zerolinecolor": "white"
           },
           "zaxis": {
            "backgroundcolor": "#E5ECF6",
            "gridcolor": "white",
            "gridwidth": 2,
            "linecolor": "white",
            "showbackground": true,
            "ticks": "",
            "zerolinecolor": "white"
           }
          },
          "shapedefaults": {
           "line": {
            "color": "#2a3f5f"
           }
          },
          "ternary": {
           "aaxis": {
            "gridcolor": "white",
            "linecolor": "white",
            "ticks": ""
           },
           "baxis": {
            "gridcolor": "white",
            "linecolor": "white",
            "ticks": ""
           },
           "bgcolor": "#E5ECF6",
           "caxis": {
            "gridcolor": "white",
            "linecolor": "white",
            "ticks": ""
           }
          },
          "title": {
           "x": 0.05
          },
          "xaxis": {
           "automargin": true,
           "gridcolor": "white",
           "linecolor": "white",
           "ticks": "",
           "title": {
            "standoff": 15
           },
           "zerolinecolor": "white",
           "zerolinewidth": 2
          },
          "yaxis": {
           "automargin": true,
           "gridcolor": "white",
           "linecolor": "white",
           "ticks": "",
           "title": {
            "standoff": 15
           },
           "zerolinecolor": "white",
           "zerolinewidth": 2
          }
         }
        },
        "title": {
         "text": "Performance Metrics for KNN and Random Forest Models"
        },
        "xaxis": {
         "tickangle": 45,
         "title": {
          "text": "Disease"
         }
        },
        "yaxis": {
         "title": {
          "text": "Metric Value"
         }
        }
       }
      }
     },
     "metadata": {},
     "output_type": "display_data"
    }
   ],
   "source": [
    "import plotly.graph_objects as go\n",
    "\n",
    "# Step 13: Visualize the metrics for K-Nearest Neighbors\n",
    "fig = go.Figure()\n",
    "\n",
    "# Add precision, recall, and F1 score for KNN\n",
    "fig.add_trace(go.Bar(\n",
    "    x=mlb.classes_,\n",
    "    y=precision_knn,\n",
    "    name='KNN Precision',\n",
    "    marker_color='blue'\n",
    "))\n",
    "fig.add_trace(go.Bar(\n",
    "    x=mlb.classes_,\n",
    "    y=recall_knn,\n",
    "    name='KNN Recall',\n",
    "    marker_color='green'\n",
    "))\n",
    "fig.add_trace(go.Bar(\n",
    "    x=mlb.classes_,\n",
    "    y=f1_knn,\n",
    "    name='KNN F1 Score',\n",
    "    marker_color='purple'\n",
    "))\n",
    "\n",
    "# Step 14: Visualize the metrics for Random Forest\n",
    "fig.add_trace(go.Bar(\n",
    "    x=mlb.classes_,\n",
    "    y=precision_rf,\n",
    "    name='RF Precision',\n",
    "    marker_color='orange'\n",
    "))\n",
    "fig.add_trace(go.Bar(\n",
    "    x=mlb.classes_,\n",
    "    y=recall_rf,\n",
    "    name='RF Recall',\n",
    "    marker_color='red'\n",
    "))\n",
    "fig.add_trace(go.Bar(\n",
    "    x=mlb.classes_,\n",
    "    y=f1_rf,\n",
    "    name='RF F1 Score',\n",
    "    marker_color='brown'\n",
    "))\n",
    "\n",
    "# Step 15: Customize the layout\n",
    "fig.update_layout(\n",
    "    title='Performance Metrics for KNN and Random Forest Models',\n",
    "    xaxis_title='Disease',\n",
    "    yaxis_title='Metric Value',\n",
    "    barmode='group',  # Group bars side by side for easy comparison\n",
    "    legend_title='Metric Type',\n",
    "    xaxis_tickangle=45\n",
    ")\n",
    "\n",
    "# Step 16: Show the plot\n",
    "fig.show()\n"
   ]
  },
  {
   "cell_type": "code",
   "execution_count": 79,
   "metadata": {},
   "outputs": [
    {
     "data": {
      "application/vnd.plotly.v1+json": {
       "config": {
        "plotlyServerURL": "https://plot.ly"
       },
       "data": [
        {
         "marker": {
          "color": "blue"
         },
         "name": "KNN",
         "type": "bar",
         "x": [
          "Precision",
          "Recall",
          "F1 Score"
         ],
         "y": [
          0.7169493473064902,
          0.5390887800723866,
          0.6081555805431665
         ]
        },
        {
         "marker": {
          "color": "orange"
         },
         "name": "Random Forest",
         "type": "bar",
         "x": [
          "Precision",
          "Recall",
          "F1 Score"
         ],
         "y": [
          0.6937520906695115,
          0.5586863955716415,
          0.6091103695206274
         ]
        }
       ],
       "layout": {
        "barmode": "group",
        "legend": {
         "title": {
          "text": "Model"
         }
        },
        "template": {
         "data": {
          "bar": [
           {
            "error_x": {
             "color": "#2a3f5f"
            },
            "error_y": {
             "color": "#2a3f5f"
            },
            "marker": {
             "line": {
              "color": "#E5ECF6",
              "width": 0.5
             },
             "pattern": {
              "fillmode": "overlay",
              "size": 10,
              "solidity": 0.2
             }
            },
            "type": "bar"
           }
          ],
          "barpolar": [
           {
            "marker": {
             "line": {
              "color": "#E5ECF6",
              "width": 0.5
             },
             "pattern": {
              "fillmode": "overlay",
              "size": 10,
              "solidity": 0.2
             }
            },
            "type": "barpolar"
           }
          ],
          "carpet": [
           {
            "aaxis": {
             "endlinecolor": "#2a3f5f",
             "gridcolor": "white",
             "linecolor": "white",
             "minorgridcolor": "white",
             "startlinecolor": "#2a3f5f"
            },
            "baxis": {
             "endlinecolor": "#2a3f5f",
             "gridcolor": "white",
             "linecolor": "white",
             "minorgridcolor": "white",
             "startlinecolor": "#2a3f5f"
            },
            "type": "carpet"
           }
          ],
          "choropleth": [
           {
            "colorbar": {
             "outlinewidth": 0,
             "ticks": ""
            },
            "type": "choropleth"
           }
          ],
          "contour": [
           {
            "colorbar": {
             "outlinewidth": 0,
             "ticks": ""
            },
            "colorscale": [
             [
              0,
              "#0d0887"
             ],
             [
              0.1111111111111111,
              "#46039f"
             ],
             [
              0.2222222222222222,
              "#7201a8"
             ],
             [
              0.3333333333333333,
              "#9c179e"
             ],
             [
              0.4444444444444444,
              "#bd3786"
             ],
             [
              0.5555555555555556,
              "#d8576b"
             ],
             [
              0.6666666666666666,
              "#ed7953"
             ],
             [
              0.7777777777777778,
              "#fb9f3a"
             ],
             [
              0.8888888888888888,
              "#fdca26"
             ],
             [
              1,
              "#f0f921"
             ]
            ],
            "type": "contour"
           }
          ],
          "contourcarpet": [
           {
            "colorbar": {
             "outlinewidth": 0,
             "ticks": ""
            },
            "type": "contourcarpet"
           }
          ],
          "heatmap": [
           {
            "colorbar": {
             "outlinewidth": 0,
             "ticks": ""
            },
            "colorscale": [
             [
              0,
              "#0d0887"
             ],
             [
              0.1111111111111111,
              "#46039f"
             ],
             [
              0.2222222222222222,
              "#7201a8"
             ],
             [
              0.3333333333333333,
              "#9c179e"
             ],
             [
              0.4444444444444444,
              "#bd3786"
             ],
             [
              0.5555555555555556,
              "#d8576b"
             ],
             [
              0.6666666666666666,
              "#ed7953"
             ],
             [
              0.7777777777777778,
              "#fb9f3a"
             ],
             [
              0.8888888888888888,
              "#fdca26"
             ],
             [
              1,
              "#f0f921"
             ]
            ],
            "type": "heatmap"
           }
          ],
          "heatmapgl": [
           {
            "colorbar": {
             "outlinewidth": 0,
             "ticks": ""
            },
            "colorscale": [
             [
              0,
              "#0d0887"
             ],
             [
              0.1111111111111111,
              "#46039f"
             ],
             [
              0.2222222222222222,
              "#7201a8"
             ],
             [
              0.3333333333333333,
              "#9c179e"
             ],
             [
              0.4444444444444444,
              "#bd3786"
             ],
             [
              0.5555555555555556,
              "#d8576b"
             ],
             [
              0.6666666666666666,
              "#ed7953"
             ],
             [
              0.7777777777777778,
              "#fb9f3a"
             ],
             [
              0.8888888888888888,
              "#fdca26"
             ],
             [
              1,
              "#f0f921"
             ]
            ],
            "type": "heatmapgl"
           }
          ],
          "histogram": [
           {
            "marker": {
             "pattern": {
              "fillmode": "overlay",
              "size": 10,
              "solidity": 0.2
             }
            },
            "type": "histogram"
           }
          ],
          "histogram2d": [
           {
            "colorbar": {
             "outlinewidth": 0,
             "ticks": ""
            },
            "colorscale": [
             [
              0,
              "#0d0887"
             ],
             [
              0.1111111111111111,
              "#46039f"
             ],
             [
              0.2222222222222222,
              "#7201a8"
             ],
             [
              0.3333333333333333,
              "#9c179e"
             ],
             [
              0.4444444444444444,
              "#bd3786"
             ],
             [
              0.5555555555555556,
              "#d8576b"
             ],
             [
              0.6666666666666666,
              "#ed7953"
             ],
             [
              0.7777777777777778,
              "#fb9f3a"
             ],
             [
              0.8888888888888888,
              "#fdca26"
             ],
             [
              1,
              "#f0f921"
             ]
            ],
            "type": "histogram2d"
           }
          ],
          "histogram2dcontour": [
           {
            "colorbar": {
             "outlinewidth": 0,
             "ticks": ""
            },
            "colorscale": [
             [
              0,
              "#0d0887"
             ],
             [
              0.1111111111111111,
              "#46039f"
             ],
             [
              0.2222222222222222,
              "#7201a8"
             ],
             [
              0.3333333333333333,
              "#9c179e"
             ],
             [
              0.4444444444444444,
              "#bd3786"
             ],
             [
              0.5555555555555556,
              "#d8576b"
             ],
             [
              0.6666666666666666,
              "#ed7953"
             ],
             [
              0.7777777777777778,
              "#fb9f3a"
             ],
             [
              0.8888888888888888,
              "#fdca26"
             ],
             [
              1,
              "#f0f921"
             ]
            ],
            "type": "histogram2dcontour"
           }
          ],
          "mesh3d": [
           {
            "colorbar": {
             "outlinewidth": 0,
             "ticks": ""
            },
            "type": "mesh3d"
           }
          ],
          "parcoords": [
           {
            "line": {
             "colorbar": {
              "outlinewidth": 0,
              "ticks": ""
             }
            },
            "type": "parcoords"
           }
          ],
          "pie": [
           {
            "automargin": true,
            "type": "pie"
           }
          ],
          "scatter": [
           {
            "fillpattern": {
             "fillmode": "overlay",
             "size": 10,
             "solidity": 0.2
            },
            "type": "scatter"
           }
          ],
          "scatter3d": [
           {
            "line": {
             "colorbar": {
              "outlinewidth": 0,
              "ticks": ""
             }
            },
            "marker": {
             "colorbar": {
              "outlinewidth": 0,
              "ticks": ""
             }
            },
            "type": "scatter3d"
           }
          ],
          "scattercarpet": [
           {
            "marker": {
             "colorbar": {
              "outlinewidth": 0,
              "ticks": ""
             }
            },
            "type": "scattercarpet"
           }
          ],
          "scattergeo": [
           {
            "marker": {
             "colorbar": {
              "outlinewidth": 0,
              "ticks": ""
             }
            },
            "type": "scattergeo"
           }
          ],
          "scattergl": [
           {
            "marker": {
             "colorbar": {
              "outlinewidth": 0,
              "ticks": ""
             }
            },
            "type": "scattergl"
           }
          ],
          "scattermapbox": [
           {
            "marker": {
             "colorbar": {
              "outlinewidth": 0,
              "ticks": ""
             }
            },
            "type": "scattermapbox"
           }
          ],
          "scatterpolar": [
           {
            "marker": {
             "colorbar": {
              "outlinewidth": 0,
              "ticks": ""
             }
            },
            "type": "scatterpolar"
           }
          ],
          "scatterpolargl": [
           {
            "marker": {
             "colorbar": {
              "outlinewidth": 0,
              "ticks": ""
             }
            },
            "type": "scatterpolargl"
           }
          ],
          "scatterternary": [
           {
            "marker": {
             "colorbar": {
              "outlinewidth": 0,
              "ticks": ""
             }
            },
            "type": "scatterternary"
           }
          ],
          "surface": [
           {
            "colorbar": {
             "outlinewidth": 0,
             "ticks": ""
            },
            "colorscale": [
             [
              0,
              "#0d0887"
             ],
             [
              0.1111111111111111,
              "#46039f"
             ],
             [
              0.2222222222222222,
              "#7201a8"
             ],
             [
              0.3333333333333333,
              "#9c179e"
             ],
             [
              0.4444444444444444,
              "#bd3786"
             ],
             [
              0.5555555555555556,
              "#d8576b"
             ],
             [
              0.6666666666666666,
              "#ed7953"
             ],
             [
              0.7777777777777778,
              "#fb9f3a"
             ],
             [
              0.8888888888888888,
              "#fdca26"
             ],
             [
              1,
              "#f0f921"
             ]
            ],
            "type": "surface"
           }
          ],
          "table": [
           {
            "cells": {
             "fill": {
              "color": "#EBF0F8"
             },
             "line": {
              "color": "white"
             }
            },
            "header": {
             "fill": {
              "color": "#C8D4E3"
             },
             "line": {
              "color": "white"
             }
            },
            "type": "table"
           }
          ]
         },
         "layout": {
          "annotationdefaults": {
           "arrowcolor": "#2a3f5f",
           "arrowhead": 0,
           "arrowwidth": 1
          },
          "autotypenumbers": "strict",
          "coloraxis": {
           "colorbar": {
            "outlinewidth": 0,
            "ticks": ""
           }
          },
          "colorscale": {
           "diverging": [
            [
             0,
             "#8e0152"
            ],
            [
             0.1,
             "#c51b7d"
            ],
            [
             0.2,
             "#de77ae"
            ],
            [
             0.3,
             "#f1b6da"
            ],
            [
             0.4,
             "#fde0ef"
            ],
            [
             0.5,
             "#f7f7f7"
            ],
            [
             0.6,
             "#e6f5d0"
            ],
            [
             0.7,
             "#b8e186"
            ],
            [
             0.8,
             "#7fbc41"
            ],
            [
             0.9,
             "#4d9221"
            ],
            [
             1,
             "#276419"
            ]
           ],
           "sequential": [
            [
             0,
             "#0d0887"
            ],
            [
             0.1111111111111111,
             "#46039f"
            ],
            [
             0.2222222222222222,
             "#7201a8"
            ],
            [
             0.3333333333333333,
             "#9c179e"
            ],
            [
             0.4444444444444444,
             "#bd3786"
            ],
            [
             0.5555555555555556,
             "#d8576b"
            ],
            [
             0.6666666666666666,
             "#ed7953"
            ],
            [
             0.7777777777777778,
             "#fb9f3a"
            ],
            [
             0.8888888888888888,
             "#fdca26"
            ],
            [
             1,
             "#f0f921"
            ]
           ],
           "sequentialminus": [
            [
             0,
             "#0d0887"
            ],
            [
             0.1111111111111111,
             "#46039f"
            ],
            [
             0.2222222222222222,
             "#7201a8"
            ],
            [
             0.3333333333333333,
             "#9c179e"
            ],
            [
             0.4444444444444444,
             "#bd3786"
            ],
            [
             0.5555555555555556,
             "#d8576b"
            ],
            [
             0.6666666666666666,
             "#ed7953"
            ],
            [
             0.7777777777777778,
             "#fb9f3a"
            ],
            [
             0.8888888888888888,
             "#fdca26"
            ],
            [
             1,
             "#f0f921"
            ]
           ]
          },
          "colorway": [
           "#636efa",
           "#EF553B",
           "#00cc96",
           "#ab63fa",
           "#FFA15A",
           "#19d3f3",
           "#FF6692",
           "#B6E880",
           "#FF97FF",
           "#FECB52"
          ],
          "font": {
           "color": "#2a3f5f"
          },
          "geo": {
           "bgcolor": "white",
           "lakecolor": "white",
           "landcolor": "#E5ECF6",
           "showlakes": true,
           "showland": true,
           "subunitcolor": "white"
          },
          "hoverlabel": {
           "align": "left"
          },
          "hovermode": "closest",
          "mapbox": {
           "style": "light"
          },
          "paper_bgcolor": "white",
          "plot_bgcolor": "#E5ECF6",
          "polar": {
           "angularaxis": {
            "gridcolor": "white",
            "linecolor": "white",
            "ticks": ""
           },
           "bgcolor": "#E5ECF6",
           "radialaxis": {
            "gridcolor": "white",
            "linecolor": "white",
            "ticks": ""
           }
          },
          "scene": {
           "xaxis": {
            "backgroundcolor": "#E5ECF6",
            "gridcolor": "white",
            "gridwidth": 2,
            "linecolor": "white",
            "showbackground": true,
            "ticks": "",
            "zerolinecolor": "white"
           },
           "yaxis": {
            "backgroundcolor": "#E5ECF6",
            "gridcolor": "white",
            "gridwidth": 2,
            "linecolor": "white",
            "showbackground": true,
            "ticks": "",
            "zerolinecolor": "white"
           },
           "zaxis": {
            "backgroundcolor": "#E5ECF6",
            "gridcolor": "white",
            "gridwidth": 2,
            "linecolor": "white",
            "showbackground": true,
            "ticks": "",
            "zerolinecolor": "white"
           }
          },
          "shapedefaults": {
           "line": {
            "color": "#2a3f5f"
           }
          },
          "ternary": {
           "aaxis": {
            "gridcolor": "white",
            "linecolor": "white",
            "ticks": ""
           },
           "baxis": {
            "gridcolor": "white",
            "linecolor": "white",
            "ticks": ""
           },
           "bgcolor": "#E5ECF6",
           "caxis": {
            "gridcolor": "white",
            "linecolor": "white",
            "ticks": ""
           }
          },
          "title": {
           "x": 0.05
          },
          "xaxis": {
           "automargin": true,
           "gridcolor": "white",
           "linecolor": "white",
           "ticks": "",
           "title": {
            "standoff": 15
           },
           "zerolinecolor": "white",
           "zerolinewidth": 2
          },
          "yaxis": {
           "automargin": true,
           "gridcolor": "white",
           "linecolor": "white",
           "ticks": "",
           "title": {
            "standoff": 15
           },
           "zerolinecolor": "white",
           "zerolinewidth": 2
          }
         }
        },
        "title": {
         "text": "Overall Performance Comparison of KNN and Random Forest Models"
        },
        "xaxis": {
         "title": {
          "text": "Metric"
         }
        },
        "yaxis": {
         "title": {
          "text": "Average Metric Value"
         }
        }
       }
      }
     },
     "metadata": {},
     "output_type": "display_data"
    }
   ],
   "source": [
    "import numpy as np\n",
    "\n",
    "# Step 17: Calculate overall average metrics for both models\n",
    "avg_precision_knn = np.mean(precision_knn)\n",
    "avg_recall_knn = np.mean(recall_knn)\n",
    "avg_f1_knn = np.mean(f1_knn)\n",
    "\n",
    "avg_precision_rf = np.mean(precision_rf)\n",
    "avg_recall_rf = np.mean(recall_rf)\n",
    "avg_f1_rf = np.mean(f1_rf)\n",
    "\n",
    "# Step 18: Visualize overall performance comparison\n",
    "fig = go.Figure()\n",
    "\n",
    "# Add bars for KNN model\n",
    "fig.add_trace(go.Bar(\n",
    "    x=['Precision', 'Recall', 'F1 Score'],\n",
    "    y=[avg_precision_knn, avg_recall_knn, avg_f1_knn],\n",
    "    name='KNN',\n",
    "    marker_color='blue'\n",
    "))\n",
    "\n",
    "# Add bars for Random Forest model\n",
    "fig.add_trace(go.Bar(\n",
    "    x=['Precision', 'Recall', 'F1 Score'],\n",
    "    y=[avg_precision_rf, avg_recall_rf, avg_f1_rf],\n",
    "    name='Random Forest',\n",
    "    marker_color='orange'\n",
    "))\n",
    "\n",
    "# Step 19: Customize the layout\n",
    "fig.update_layout(\n",
    "    title='Overall Performance Comparison of KNN and Random Forest Models',\n",
    "    xaxis_title='Metric',\n",
    "    yaxis_title='Average Metric Value',\n",
    "    barmode='group',  # Grouped bars for easy comparison\n",
    "    legend_title='Model'\n",
    ")\n",
    "\n",
    "# Step 20: Show the plot\n",
    "fig.show()\n"
   ]
  },
  {
   "cell_type": "code",
   "execution_count": 80,
   "metadata": {},
   "outputs": [],
   "source": [
    "def make_prediction(weight, activity_level, dietary_preference, calorie_target):\n",
    "    # Step 22: Prepare the input data as a DataFrame with proper column names\n",
    "    input_data = pd.DataFrame({\n",
    "        'Weight': [weight],\n",
    "        'Daily Calorie Target': [calorie_target],\n",
    "        'Activity Level': [activity_level],\n",
    "        'Dietary Preference': [dietary_preference]\n",
    "    })\n",
    "\n",
    "    # Step 23: One-hot encode the categorical features using column names\n",
    "    encoded_input = encoder.transform(input_data[['Activity Level', 'Dietary Preference']])\n",
    "    encoded_input_df = pd.DataFrame(encoded_input, columns=encoded_feature_names)\n",
    "\n",
    "    # Step 24: Combine numerical and encoded features\n",
    "    final_input = pd.concat([input_data.drop(columns=['Activity Level', 'Dietary Preference']), encoded_input_df], axis=1)\n",
    "\n",
    "    # Step 25: Ensure all columns match the training data\n",
    "    missing_cols = set(X.columns) - set(final_input.columns)\n",
    "    for col in missing_cols:\n",
    "        final_input[col] = 0  # Add missing columns with 0 values\n",
    "    final_input = final_input[X.columns]  # Ensure column order matches\n",
    "\n",
    "    # Step 26: Make predictions using KNN (you can switch to Random Forest if needed)\n",
    "    prediction = model_knn.predict(final_input)\n",
    "\n",
    "    # Step 27: Interpret the prediction\n",
    "    predicted_diseases = [mlb.classes_[i] for i, val in enumerate(prediction[0]) if val == 1]\n",
    "\n",
    "    return predicted_diseases\n",
    "\n"
   ]
  },
  {
   "cell_type": "code",
   "execution_count": 81,
   "metadata": {},
   "outputs": [
    {
     "name": "stdout",
     "output_type": "stream",
     "text": [
      "Predicted Diseases: ['Weight Gain']\n"
     ]
    }
   ],
   "source": [
    "# Example Usage\n",
    "sample_weight = 70  # Example weight\n",
    "sample_activity_level = 'Moderate'  # Example activity level\n",
    "sample_dietary_preference = 'Vegetarian'  # Example dietary preference\n",
    "sample_calorie_target = 2000  # Example calorie target\n",
    "\n",
    "predicted_diseases = make_prediction(sample_weight, sample_activity_level, sample_dietary_preference, sample_calorie_target)\n",
    "print(f\"Predicted Diseases: {predicted_diseases}\")\n"
   ]
  },
  {
   "cell_type": "code",
   "execution_count": 82,
   "metadata": {},
   "outputs": [
    {
     "name": "stdout",
     "output_type": "stream",
     "text": [
      "\n",
      "Random Forest Model:\n",
      "Accuracy: 0.78\n",
      "Hamming Loss: 0.05\n",
      "Precision: 0.69, Recall: 0.56, F1 Score: 0.61\n",
      "\n",
      "K-Nearest Neighbors Model:\n",
      "Accuracy: 0.80\n",
      "Hamming Loss: 0.05\n",
      "Precision: 0.72, Recall: 0.54, F1 Score: 0.61\n"
     ]
    },
    {
     "data": {
      "image/png": "[encoded data removed]",
      "text/plain": [
       "<Figure size 1000x600 with 1 Axes>"
      ]
     },
     "metadata": {},
     "output_type": "display_data"
    }
   ],
   "source": [
    "\n",
    "# Step 1: Evaluate Random Forest\n",
    "accuracy_rf = accuracy_score(y_test, y_pred_rf)\n",
    "hamming_rf = hamming_loss(y_test, y_pred_rf)\n",
    "precision_rf, recall_rf, f1_rf, _ = precision_recall_fscore_support(y_test, y_pred_rf, average='macro', zero_division=0)\n",
    "\n",
    "# Step 2: Evaluate KNN\n",
    "accuracy_knn = accuracy_score(y_test, y_pred_knn)\n",
    "hamming_knn = hamming_loss(y_test, y_pred_knn)\n",
    "precision_knn, recall_knn, f1_knn, _ = precision_recall_fscore_support(y_test, y_pred_knn, average='macro', zero_division=0)\n",
    "\n",
    "# Step 3: Print metrics for both models\n",
    "print(\"\\nRandom Forest Model:\")\n",
    "print(f\"Accuracy: {accuracy_rf:.2f}\")\n",
    "print(f\"Hamming Loss: {hamming_rf:.2f}\")\n",
    "print(f\"Precision: {precision_rf:.2f}, Recall: {recall_rf:.2f}, F1 Score: {f1_rf:.2f}\")\n",
    "\n",
    "print(\"\\nK-Nearest Neighbors Model:\")\n",
    "print(f\"Accuracy: {accuracy_knn:.2f}\")\n",
    "print(f\"Hamming Loss: {hamming_knn:.2f}\")\n",
    "print(f\"Precision: {precision_knn:.2f}, Recall: {recall_knn:.2f}, F1 Score: {f1_knn:.2f}\")\n",
    "\n",
    "# Step 4: Compare metrics visually using bar charts\n",
    "import matplotlib.pyplot as plt\n",
    "import numpy as np\n",
    "\n",
    "# Metrics\n",
    "metrics = ['Accuracy', 'Hamming Loss', 'Precision', 'Recall', 'F1 Score']\n",
    "rf_metrics = [accuracy_rf, hamming_rf, precision_rf, recall_rf, f1_rf]\n",
    "knn_metrics = [accuracy_knn, hamming_knn, precision_knn, recall_knn, f1_knn]\n",
    "\n",
    "# Bar chart\n",
    "x = np.arange(len(metrics))\n",
    "width = 0.35\n",
    "\n",
    "plt.figure(figsize=(10, 6))\n",
    "plt.bar(x - width/2, rf_metrics, width, label='Random Forest', color='skyblue')\n",
    "plt.bar(x + width/2, knn_metrics, width, label='KNN', color='lightcoral')\n",
    "\n",
    "plt.xlabel('Metrics')\n",
    "plt.ylabel('Scores')\n",
    "plt.title('Model Comparison: Random Forest vs K-Nearest Neighbors')\n",
    "plt.xticks(x, metrics)\n",
    "plt.legend()\n",
    "plt.tight_layout()\n",
    "plt.show()\n"
   ]
  }
 ],
 "metadata": {
  "kernelspec": {
   "display_name": "base",
   "language": "python",
   "name": "python3"
  },
  "language_info": {
   "codemirror_mode": {
    "name": "ipython",
    "version": 3
   },
   "file_extension": ".py",
   "mimetype": "text/x-python",
   "name": "python",
   "nbconvert_exporter": "python",
   "pygments_lexer": "ipython3",
   "version": "3.10.9"
  }
 },
 "nbformat": 4,
 "nbformat_minor": 2
}
