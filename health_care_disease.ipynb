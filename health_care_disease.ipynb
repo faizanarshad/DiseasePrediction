{
 "cells": [
  {
   "cell_type": "markdown",
   "metadata": {},
   "source": [
    "To create a machine learning model using your Food_and_Nutrition.csv dataset, here’s a step-by-step plan:\n",
    "### 1.Load and Explore the Data:\n",
    "     Read the CSV, inspect columns, and check for missing values.\n",
    "### 2.Preprocess the Data: \n",
    "    Encode categorical variables, handle missing data, and scale/normalize features if needed.\n",
    "### 3.Define the Problem: \n",
    "    Decide what you want to predict (target variable). For example, you might want to predict \"Disease\" based on the other features.\n",
    "### 4.Split the Data: \n",
    "    Divide the data into training and testing sets.\n",
    "### 5.Train a Model: \n",
    "    Use a suitable algorithm (e.g., Random Forest, Logistic Regression, etc.).\n",
    "### 6.Evaluate the Model: \n",
    "    Check accuracy, precision, recall, etc.\n",
    "### 7.Save the Model: \n",
    "    Optionally, save the trained model for future use."
   ]
  },
  {
   "cell_type": "markdown",
   "metadata": {},
   "source": [
    "## 1. Import Libraries"
   ]
  },
  {
   "cell_type": "code",
   "execution_count": 36,
   "metadata": {},
   "outputs": [],
   "source": [
    "import pandas as pd\n",
    "import numpy as np\n",
    "from sklearn.model_selection import train_test_split\n",
    "from sklearn.preprocessing import LabelEncoder, StandardScaler, MultiLabelBinarizer\n",
    "from sklearn.ensemble import RandomForestClassifier\n",
    "from sklearn.metrics import classification_report, accuracy_score\n",
    "from sklearn.preprocessing import LabelEncoder"
   ]
  },
  {
   "cell_type": "markdown",
   "metadata": {},
   "source": [
    "## 2. Load and Inspect Data"
   ]
  },
  {
   "cell_type": "code",
   "execution_count": 37,
   "metadata": {},
   "outputs": [
    {
     "name": "stdout",
     "output_type": "stream",
     "text": [
      "   Ages  Gender  Height  Weight     Activity Level Dietary Preference  \\\n",
      "0    25    Male     180      80  Moderately Active           Omnivore   \n",
      "1    32  Female     165      65     Lightly Active         Vegetarian   \n",
      "2    48    Male     175      95          Sedentary              Vegan   \n",
      "3    55  Female     160      70        Very Active           Omnivore   \n",
      "4    62    Male     170      85          Sedentary         Vegetarian   \n",
      "\n",
      "   Daily Calorie Target  Protein  Sugar  Sodium  Calories  Carbohydrates  \\\n",
      "0                  2000      120  125.0    24.0      2020            250   \n",
      "1                  1600       80  100.0    16.0      1480            200   \n",
      "2                  2200      100  150.0    20.0      2185            300   \n",
      "3                  2500      140  175.0    28.0      2680            350   \n",
      "4                  2000       80  125.0    16.0      1815            250   \n",
      "\n",
      "   Fiber  Fat                               Breakfast Suggestion  \\\n",
      "0   30.0   60                      Oatmeal with berries and nuts   \n",
      "1   24.0   40                         Tofu scramble with veggies   \n",
      "2   36.0   65                  Tofu and veggie breakfast burrito   \n",
      "3   42.0   80                Greek yogurt with granola and fruit   \n",
      "4   30.0   55  Scrambled eggs with whole wheat toast and avocado   \n",
      "\n",
      "                             Lunch Suggestion  \\\n",
      "0     Grilled chicken salad with mixed greens   \n",
      "1          Lentil soup with whole wheat bread   \n",
      "2      Black bean burger on a whole wheat bun   \n",
      "3              Chicken and vegetable stir-fry   \n",
      "4  Quinoa salad with chickpeas and vegetables   \n",
      "\n",
      "                    Dinner Suggestion           Snack Suggestion  \\\n",
      "0      Salmon with roasted vegetables    Greek yogurt with fruit   \n",
      "1  Vegetable stir-fry with brown rice   Apple with almond butter   \n",
      "2          Lentil and vegetable curry                  Trail mix   \n",
      "3        Turkey chili with brown rice  Banana with peanut butter   \n",
      "4     Vegetarian chili with cornbread          Fruit and nut mix   \n",
      "\n",
      "                                    Disease  \n",
      "0                               Weight Gain  \n",
      "1  Weight Gain, Hypertension, Heart Disease  \n",
      "2                               Weight Gain  \n",
      "3                               Weight Gain  \n",
      "4                               Weight Gain  \n",
      "<class 'pandas.core.frame.DataFrame'>\n",
      "RangeIndex: 1698 entries, 0 to 1697\n",
      "Data columns (total 19 columns):\n",
      " #   Column                Non-Null Count  Dtype  \n",
      "---  ------                --------------  -----  \n",
      " 0   Ages                  1698 non-null   int64  \n",
      " 1   Gender                1698 non-null   object \n",
      " 2   Height                1698 non-null   int64  \n",
      " 3   Weight                1698 non-null   int64  \n",
      " 4   Activity Level        1698 non-null   object \n",
      " 5   Dietary Preference    1698 non-null   object \n",
      " 6   Daily Calorie Target  1698 non-null   int64  \n",
      " 7   Protein               1698 non-null   int64  \n",
      " 8   Sugar                 1698 non-null   float64\n",
      " 9   Sodium                1698 non-null   float64\n",
      " 10  Calories              1698 non-null   int64  \n",
      " 11  Carbohydrates         1698 non-null   int64  \n",
      " 12  Fiber                 1698 non-null   float64\n",
      " 13  Fat                   1698 non-null   int64  \n",
      " 14  Breakfast Suggestion  1698 non-null   object \n",
      " 15  Lunch Suggestion      1698 non-null   object \n",
      " 16  Dinner Suggestion     1698 non-null   object \n",
      " 17  Snack Suggestion      1698 non-null   object \n",
      " 18  Disease               1698 non-null   object \n",
      "dtypes: float64(3), int64(8), object(8)\n",
      "memory usage: 252.2+ KB\n",
      "None\n"
     ]
    }
   ],
   "source": [
    "df = pd.read_csv('Food_and_Nutrition.csv')\n",
    "print(df.head())\n",
    "print(df.info())"
   ]
  },
  {
   "cell_type": "markdown",
   "metadata": {},
   "source": [
    "##   3. Preprocess Data\n",
    "    Encode categorical columns (Gender, Activity Level, Dietary Preference)\n",
    "    Convert multi-label \"Disease\" column to binary columns\n",
    "    Drop suggestion columns (as they are text and not useful for prediction)"
   ]
  },
  {
   "cell_type": "code",
   "execution_count": 38,
   "metadata": {},
   "outputs": [
    {
     "name": "stdout",
     "output_type": "stream",
     "text": [
      "   Ages  Gender  Height  Weight  Activity Level  Dietary Preference  \\\n",
      "0    25       1     180      80               2                   0   \n",
      "1    32       0     165      65               1                   3   \n",
      "2    48       1     175      95               3                   2   \n",
      "3    55       0     160      70               4                   0   \n",
      "4    62       1     170      85               3                   3   \n",
      "\n",
      "   Daily Calorie Target  Protein  Sugar  Sodium  ...  Carbohydrates  Fiber  \\\n",
      "0                  2000      120  125.0    24.0  ...            250   30.0   \n",
      "1                  1600       80  100.0    16.0  ...            200   24.0   \n",
      "2                  2200      100  150.0    20.0  ...            300   36.0   \n",
      "3                  2500      140  175.0    28.0  ...            350   42.0   \n",
      "4                  2000       80  125.0    16.0  ...            250   30.0   \n",
      "\n",
      "   Fat  Acne  Diabetes  HeartDisease  Hypertension  KidneyDisease  WeightGain  \\\n",
      "0   60     0         0             0             0              0           1   \n",
      "1   40     0         0             1             1              0           1   \n",
      "2   65     0         0             0             0              0           1   \n",
      "3   80     0         0             0             0              0           1   \n",
      "4   55     0         0             0             0              0           1   \n",
      "\n",
      "   WeightLoss  \n",
      "0           0  \n",
      "1           0  \n",
      "2           0  \n",
      "3           0  \n",
      "4           0  \n",
      "\n",
      "[5 rows x 21 columns]\n"
     ]
    }
   ],
   "source": [
    "# Drop suggestion columns\n",
    "suggestion_cols = ['Breakfast Suggestion', 'Lunch Suggestion', 'Dinner Suggestion', 'Snack Suggestion']\n",
    "df = df.drop(columns=suggestion_cols)\n",
    "\n",
    "# Create and store encoders for each categorical column\n",
    "label_encoders = {}\n",
    "for col in ['Gender', 'Activity Level', 'Dietary Preference']:\n",
    "    le = LabelEncoder()\n",
    "    df[col] = le.fit_transform(df[col])\n",
    "    label_encoders[col] = le\n",
    "    \n",
    "# Handle multi-label Disease column\n",
    "df['Disease'] = df['Disease'].str.replace(' ', '')  # Remove spaces\n",
    "mlb = MultiLabelBinarizer()\n",
    "disease_encoded = mlb.fit_transform(df['Disease'].str.split(','))\n",
    "disease_df = pd.DataFrame(disease_encoded, columns=mlb.classes_)\n",
    "df = pd.concat([df.drop(columns=['Disease']), disease_df], axis=1)\n",
    "\n",
    "print(df.head())"
   ]
  },
  {
   "cell_type": "markdown",
   "metadata": {},
   "source": [
    "## 4. Split Data"
   ]
  },
  {
   "cell_type": "code",
   "execution_count": 39,
   "metadata": {},
   "outputs": [],
   "source": [
    "X = df.drop(columns=mlb.classes_)  # Features\n",
    "y = df[mlb.classes_]               # Multi-label targets\n",
    "\n",
    "X_train, X_test, y_train, y_test = train_test_split(X, y, test_size=0.2, random_state=42)"
   ]
  },
  {
   "cell_type": "markdown",
   "metadata": {},
   "source": [
    "## 5. Train Model"
   ]
  },
  {
   "cell_type": "code",
   "execution_count": 40,
   "metadata": {},
   "outputs": [
    {
     "data": {
      "text/html": [
       "<style>#sk-container-id-5 {color: black;}#sk-container-id-5 pre{padding: 0;}#sk-container-id-5 div.sk-toggleable {background-color: white;}#sk-container-id-5 label.sk-toggleable__label {cursor: pointer;display: block;width: 100%;margin-bottom: 0;padding: 0.3em;box-sizing: border-box;text-align: center;}#sk-container-id-5 label.sk-toggleable__label-arrow:before {content: \"▸\";float: left;margin-right: 0.25em;color: #696969;}#sk-container-id-5 label.sk-toggleable__label-arrow:hover:before {color: black;}#sk-container-id-5 div.sk-estimator:hover label.sk-toggleable__label-arrow:before {color: black;}#sk-container-id-5 div.sk-toggleable__content {max-height: 0;max-width: 0;overflow: hidden;text-align: left;background-color: #f0f8ff;}#sk-container-id-5 div.sk-toggleable__content pre {margin: 0.2em;color: black;border-radius: 0.25em;background-color: #f0f8ff;}#sk-container-id-5 input.sk-toggleable__control:checked~div.sk-toggleable__content {max-height: 200px;max-width: 100%;overflow: auto;}#sk-container-id-5 input.sk-toggleable__control:checked~label.sk-toggleable__label-arrow:before {content: \"▾\";}#sk-container-id-5 div.sk-estimator input.sk-toggleable__control:checked~label.sk-toggleable__label {background-color: #d4ebff;}#sk-container-id-5 div.sk-label input.sk-toggleable__control:checked~label.sk-toggleable__label {background-color: #d4ebff;}#sk-container-id-5 input.sk-hidden--visually {border: 0;clip: rect(1px 1px 1px 1px);clip: rect(1px, 1px, 1px, 1px);height: 1px;margin: -1px;overflow: hidden;padding: 0;position: absolute;width: 1px;}#sk-container-id-5 div.sk-estimator {font-family: monospace;background-color: #f0f8ff;border: 1px dotted black;border-radius: 0.25em;box-sizing: border-box;margin-bottom: 0.5em;}#sk-container-id-5 div.sk-estimator:hover {background-color: #d4ebff;}#sk-container-id-5 div.sk-parallel-item::after {content: \"\";width: 100%;border-bottom: 1px solid gray;flex-grow: 1;}#sk-container-id-5 div.sk-label:hover label.sk-toggleable__label {background-color: #d4ebff;}#sk-container-id-5 div.sk-serial::before {content: \"\";position: absolute;border-left: 1px solid gray;box-sizing: border-box;top: 0;bottom: 0;left: 50%;z-index: 0;}#sk-container-id-5 div.sk-serial {display: flex;flex-direction: column;align-items: center;background-color: white;padding-right: 0.2em;padding-left: 0.2em;position: relative;}#sk-container-id-5 div.sk-item {position: relative;z-index: 1;}#sk-container-id-5 div.sk-parallel {display: flex;align-items: stretch;justify-content: center;background-color: white;position: relative;}#sk-container-id-5 div.sk-item::before, #sk-container-id-5 div.sk-parallel-item::before {content: \"\";position: absolute;border-left: 1px solid gray;box-sizing: border-box;top: 0;bottom: 0;left: 50%;z-index: -1;}#sk-container-id-5 div.sk-parallel-item {display: flex;flex-direction: column;z-index: 1;position: relative;background-color: white;}#sk-container-id-5 div.sk-parallel-item:first-child::after {align-self: flex-end;width: 50%;}#sk-container-id-5 div.sk-parallel-item:last-child::after {align-self: flex-start;width: 50%;}#sk-container-id-5 div.sk-parallel-item:only-child::after {width: 0;}#sk-container-id-5 div.sk-dashed-wrapped {border: 1px dashed gray;margin: 0 0.4em 0.5em 0.4em;box-sizing: border-box;padding-bottom: 0.4em;background-color: white;}#sk-container-id-5 div.sk-label label {font-family: monospace;font-weight: bold;display: inline-block;line-height: 1.2em;}#sk-container-id-5 div.sk-label-container {text-align: center;}#sk-container-id-5 div.sk-container {/* jupyter's `normalize.less` sets `[hidden] { display: none; }` but bootstrap.min.css set `[hidden] { display: none !important; }` so we also need the `!important` here to be able to override the default hidden behavior on the sphinx rendered scikit-learn.org. See: https://github.com/scikit-learn/scikit-learn/issues/21755 */display: inline-block !important;position: relative;}#sk-container-id-5 div.sk-text-repr-fallback {display: none;}</style><div id=\"sk-container-id-5\" class=\"sk-top-container\"><div class=\"sk-text-repr-fallback\"><pre>RandomForestClassifier(random_state=42)</pre><b>In a Jupyter environment, please rerun this cell to show the HTML representation or trust the notebook. <br />On GitHub, the HTML representation is unable to render, please try loading this page with nbviewer.org.</b></div><div class=\"sk-container\" hidden><div class=\"sk-item\"><div class=\"sk-estimator sk-toggleable\"><input class=\"sk-toggleable__control sk-hidden--visually\" id=\"sk-estimator-id-5\" type=\"checkbox\" checked><label for=\"sk-estimator-id-5\" class=\"sk-toggleable__label sk-toggleable__label-arrow\">RandomForestClassifier</label><div class=\"sk-toggleable__content\"><pre>RandomForestClassifier(random_state=42)</pre></div></div></div></div></div>"
      ],
      "text/plain": [
       "RandomForestClassifier(random_state=42)"
      ]
     },
     "execution_count": 40,
     "metadata": {},
     "output_type": "execute_result"
    }
   ],
   "source": [
    "clf = RandomForestClassifier(n_estimators=100, random_state=42)\n",
    "clf.fit(X_train, y_train)"
   ]
  },
  {
   "cell_type": "markdown",
   "metadata": {},
   "source": [
    "## 6. Evaluate Model"
   ]
  },
  {
   "cell_type": "code",
   "execution_count": 41,
   "metadata": {},
   "outputs": [
    {
     "name": "stdout",
     "output_type": "stream",
     "text": [
      "Predicted diseases: [('WeightGain',)]\n"
     ]
    }
   ],
   "source": [
    "# Example: Predict for a new sample (replace with actual values)\n",
    "sample = X_test.iloc[0:1]\n",
    "pred = clf.predict(sample)\n",
    "print(\"Predicted diseases:\", mlb.inverse_transform(pred))"
   ]
  },
  {
   "cell_type": "markdown",
   "metadata": {},
   "source": [
    "# 7. Predict on New Data"
   ]
  },
  {
   "cell_type": "code",
   "execution_count": 42,
   "metadata": {},
   "outputs": [
    {
     "name": "stdout",
     "output_type": "stream",
     "text": [
      "Predicted diseases: [('WeightGain',)]\n"
     ]
    }
   ],
   "source": [
    "# Example: Predict for a new sample (replace with actual values)\n",
    "sample = X_test.iloc[0:1]\n",
    "pred = clf.predict(sample)\n",
    "print(\"Predicted diseases:\", mlb.inverse_transform(pred))"
   ]
  },
  {
   "cell_type": "code",
   "execution_count": 43,
   "metadata": {},
   "outputs": [
    {
     "data": {
      "text/plain": [
       "['encoders.pkl']"
      ]
     },
     "execution_count": 43,
     "metadata": {},
     "output_type": "execute_result"
    }
   ],
   "source": [
    "import joblib\n",
    "\n",
    "# Save the trained model\n",
    "joblib.dump(clf, 'model.pkl')\n",
    "\n",
    "# Save the encoders\n",
    "encoders = {\n",
    "    'label_encoders': label_encoders,\n",
    "    'mlb': mlb\n",
    "}\n",
    "joblib.dump(encoders, 'encoders.pkl')"
   ]
  }
 ],
 "metadata": {
  "kernelspec": {
   "display_name": "base",
   "language": "python",
   "name": "python3"
  },
  "language_info": {
   "codemirror_mode": {
    "name": "ipython",
    "version": 3
   },
   "file_extension": ".py",
   "mimetype": "text/x-python",
   "name": "python",
   "nbconvert_exporter": "python",
   "pygments_lexer": "ipython3",
   "version": "3.10.9"
  }
 },
 "nbformat": 4,
 "nbformat_minor": 2
}
